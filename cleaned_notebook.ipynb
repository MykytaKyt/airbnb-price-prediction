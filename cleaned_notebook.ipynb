{
 "cells": [
  {
   "cell_type": "markdown",
   "id": "252d36c4",
   "metadata": {
    "id": "252d36c4",
    "pycharm": {
     "name": "#%% md\n"
    }
   },
   "source": [
    "# House price predict"
   ]
  },
  {
   "cell_type": "code",
   "execution_count": 1,
   "id": "75454036",
   "metadata": {
    "colab": {
     "base_uri": "https://localhost:8080/",
     "height": 393
    },
    "id": "75454036",
    "outputId": "d102f787-4c68-488b-ec2a-ddb97695092c",
    "pycharm": {
     "name": "#%%\n"
    }
   },
   "outputs": [
    {
     "output_type": "error",
     "ename": "ModuleNotFoundError",
     "evalue": "ignored",
     "traceback": [
      "\u001B[0;31m---------------------------------------------------------------------------\u001B[0m",
      "\u001B[0;31mModuleNotFoundError\u001B[0m                       Traceback (most recent call last)",
      "\u001B[0;32m<ipython-input-1-741497080484>\u001B[0m in \u001B[0;36m<cell line: 2>\u001B[0;34m()\u001B[0m\n\u001B[1;32m      1\u001B[0m \u001B[0;32mimport\u001B[0m \u001B[0mpandas\u001B[0m \u001B[0;32mas\u001B[0m \u001B[0mpd\u001B[0m\u001B[0;34m\u001B[0m\u001B[0;34m\u001B[0m\u001B[0m\n\u001B[0;32m----> 2\u001B[0;31m \u001B[0;32mimport\u001B[0m \u001B[0mshap\u001B[0m\u001B[0;34m\u001B[0m\u001B[0;34m\u001B[0m\u001B[0m\n\u001B[0m\u001B[1;32m      3\u001B[0m \u001B[0;32mfrom\u001B[0m \u001B[0mpandas_profiling\u001B[0m \u001B[0;32mimport\u001B[0m \u001B[0mProfileReport\u001B[0m\u001B[0;34m\u001B[0m\u001B[0;34m\u001B[0m\u001B[0m\n\u001B[1;32m      4\u001B[0m \u001B[0;32mimport\u001B[0m \u001B[0mseaborn\u001B[0m \u001B[0;32mas\u001B[0m \u001B[0msns\u001B[0m\u001B[0;34m\u001B[0m\u001B[0;34m\u001B[0m\u001B[0m\n\u001B[1;32m      5\u001B[0m \u001B[0;32mimport\u001B[0m \u001B[0mmatplotlib\u001B[0m\u001B[0;34m.\u001B[0m\u001B[0mpyplot\u001B[0m \u001B[0;32mas\u001B[0m \u001B[0mplt\u001B[0m\u001B[0;34m\u001B[0m\u001B[0;34m\u001B[0m\u001B[0m\n",
      "\u001B[0;31mModuleNotFoundError\u001B[0m: No module named 'shap'",
      "",
      "\u001B[0;31m---------------------------------------------------------------------------\u001B[0;32m\nNOTE: If your import is failing due to a missing package, you can\nmanually install dependencies using either !pip or !apt.\n\nTo view examples of installing some common dependencies, click the\n\"Open Examples\" button below.\n\u001B[0;31m---------------------------------------------------------------------------\u001B[0m\n"
     ],
     "errorDetails": {
      "actions": [
       {
        "action": "open_url",
        "actionText": "Open Examples",
        "url": "/notebooks/snippets/importing_libraries.ipynb"
       }
      ]
     }
    }
   ],
   "source": [
    "import pandas as pd\n",
    "import shap\n",
    "from pandas_profiling import ProfileReport\n",
    "import seaborn as sns\n",
    "import matplotlib.pyplot as plt\n",
    "from sklearn.preprocessing import LabelBinarizer, LabelEncoder\n",
    "from sklearn.preprocessing import OneHotEncoder\n",
    "from sklearn.ensemble import IsolationForest\n",
    "from sklearn.metrics import mean_squared_error\n",
    "from sklearn.metrics import mean_absolute_error\n",
    "from sklearn import model_selection\n",
    "from catboost import CatBoostRegressor\n",
    "from sklearn.model_selection import GridSearchCV\n",
    "import catboost as cat\n",
    "import numpy as np\n",
    "from scipy.stats import spearmanr, pearsonr\n",
    "from sklearn.svm import OneClassSVM\n",
    "from keybert import KeyBERT\n",
    "from sklearn.manifold import TSNE\n",
    "from catboost import CatBoostRegressor\n",
    "from catboost import Pool, metrics, cv\n",
    "from sklearn.impute import KNNImputer\n",
    "from sklearn.cluster import DBSCAN\n",
    "from xgboost import XGBRegressor\n",
    "from lightgbm import LGBMRegressor\n",
    "from tqdm import tqdm\n",
    "%matplotlib inline"
   ]
  },
  {
   "cell_type": "markdown",
   "id": "96e37ac8",
   "metadata": {
    "id": "96e37ac8",
    "pycharm": {
     "name": "#%% md\n"
    }
   },
   "source": [
    "## EDA"
   ]
  },
  {
   "cell_type": "code",
   "execution_count": null,
   "id": "5212f7f9",
   "metadata": {
    "id": "5212f7f9",
    "pycharm": {
     "name": "#%%\n"
    }
   },
   "outputs": [],
   "source": [
    "df = pd.read_csv(\"Train.csv\")"
   ]
  },
  {
   "cell_type": "code",
   "execution_count": null,
   "id": "9ae40223",
   "metadata": {
    "id": "9ae40223",
    "pycharm": {
     "name": "#%%\n"
    }
   },
   "outputs": [],
   "source": [
    "desc = df['description']"
   ]
  },
  {
   "cell_type": "code",
   "execution_count": null,
   "id": "d33b8806",
   "metadata": {
    "id": "d33b8806",
    "pycharm": {
     "name": "#%%\n"
    }
   },
   "outputs": [],
   "source": [
    "df['amenities']"
   ]
  },
  {
   "cell_type": "code",
   "execution_count": null,
   "id": "849e9949",
   "metadata": {
    "id": "849e9949",
    "pycharm": {
     "name": "#%%\n"
    }
   },
   "outputs": [],
   "source": [
    "# Convert $ to numeric\n",
    "df[\"price\"] = df[\"price\"].replace('[\\$,]', '', regex=True).astype(float)\n",
    "df[\"cleaning_fee\"] = df[\"cleaning_fee\"].replace('[\\$,]', '', regex=True).astype(float)"
   ]
  },
  {
   "cell_type": "code",
   "execution_count": null,
   "id": "d058ed0a",
   "metadata": {
    "id": "d058ed0a",
    "pycharm": {
     "name": "#%%\n"
    }
   },
   "outputs": [],
   "source": [
    "# Convert % to numeric\n",
    "df['host_response_rate'] = df['host_response_rate'].str.rstrip('%').apply(pd.to_numeric, errors='coerce')\n",
    "df['host_acceptance_rate'] = df['host_acceptance_rate'].str.rstrip('%').apply(pd.to_numeric, errors='coerce')"
   ]
  },
  {
   "cell_type": "code",
   "execution_count": null,
   "id": "95f7bbb7",
   "metadata": {
    "id": "95f7bbb7",
    "pycharm": {
     "name": "#%%\n"
    }
   },
   "outputs": [],
   "source": [
    "# Replacing similar values\n",
    "df['city'] = df['city'].replace({'Washington, D.C.': 'Washington'})\n",
    "df['city'] = df['city'].replace({'Washington ': 'Washington'})\n",
    "df['state'] = df['state'].replace({'Washington DC': 'DC'})\n",
    "df['smart_location'] = df['smart_location'].replace({'Washington, D.C., DC': 'Washington, DC',\n",
    "                              'Washington , DC' : 'Washington, DC'})"
   ]
  },
  {
   "cell_type": "code",
   "execution_count": null,
   "id": "1cd249c5",
   "metadata": {
    "id": "1cd249c5",
    "pycharm": {
     "name": "#%%\n"
    }
   },
   "outputs": [],
   "source": [
    "profile = ProfileReport(df, title=\"Pandas Profiling Report\")\n",
    "profile"
   ]
  },
  {
   "cell_type": "markdown",
   "id": "80f8f268",
   "metadata": {
    "id": "80f8f268",
    "pycharm": {
     "name": "#%% md\n"
    }
   },
   "source": [
    "## Text processing"
   ]
  },
  {
   "cell_type": "code",
   "execution_count": null,
   "id": "15601d30",
   "metadata": {
    "id": "15601d30",
    "pycharm": {
     "name": "#%%\n"
    }
   },
   "outputs": [],
   "source": [
    "cat = df.description.str.cat(sep=' ')"
   ]
  },
  {
   "cell_type": "code",
   "execution_count": null,
   "id": "3619b77f",
   "metadata": {
    "id": "3619b77f",
    "pycharm": {
     "name": "#%%\n"
    }
   },
   "outputs": [],
   "source": [
    "kw_model = KeyBERT()\n",
    "keywords = kw_model.extract_keywords(cat, keyphrase_ngram_range=(1, 1), stop_words='english', top_n=20)\n",
    "keys = [i[0] for i in keywords]\n",
    "keys.remove('bedrooms')"
   ]
  },
  {
   "cell_type": "code",
   "execution_count": null,
   "id": "01d53381",
   "metadata": {
    "id": "01d53381",
    "pycharm": {
     "name": "#%%\n"
    }
   },
   "outputs": [],
   "source": [
    "len(df.description)"
   ]
  },
  {
   "cell_type": "code",
   "execution_count": null,
   "id": "4ed57d08",
   "metadata": {
    "id": "4ed57d08",
    "pycharm": {
     "name": "#%%\n"
    }
   },
   "outputs": [],
   "source": [
    "keywords = kw_model.extract_keywords(df.description[110], highlight=True)\n",
    "keywords"
   ]
  },
  {
   "cell_type": "code",
   "execution_count": null,
   "id": "ec34f4fc",
   "metadata": {
    "id": "ec34f4fc",
    "pycharm": {
     "name": "#%%\n"
    }
   },
   "outputs": [],
   "source": [
    "keywords = []\n",
    "for i in tqdm(range(len(df.description))):\n",
    "    keys = kw_model.extract_keywords(df.description[i], keyphrase_ngram_range=(1, 1), stop_words='english', top_n=3)\n",
    "    keys = [i[0] for i in keys]\n",
    "    keywords.append(keys)\n",
    "    print(keywords)"
   ]
  },
  {
   "cell_type": "code",
   "execution_count": null,
   "id": "aefa0021",
   "metadata": {
    "id": "aefa0021",
    "pycharm": {
     "name": "#%%\n"
    }
   },
   "outputs": [],
   "source": [
    "keywords"
   ]
  },
  {
   "cell_type": "code",
   "execution_count": null,
   "id": "fa9ec4cf",
   "metadata": {
    "id": "fa9ec4cf",
    "pycharm": {
     "name": "#%%\n"
    }
   },
   "outputs": [],
   "source": [
    "def flatten(t):\n",
    "    return [item for sublist in t for item in sublist]\n"
   ]
  },
  {
   "cell_type": "code",
   "execution_count": null,
   "id": "89c0ca33",
   "metadata": {
    "id": "89c0ca33",
    "pycharm": {
     "name": "#%%\n"
    }
   },
   "outputs": [],
   "source": [
    "key_list = flatten(keywords)"
   ]
  },
  {
   "cell_type": "code",
   "execution_count": null,
   "id": "98a585dd",
   "metadata": {
    "id": "98a585dd",
    "pycharm": {
     "name": "#%%\n"
    }
   },
   "outputs": [],
   "source": [
    "len(key_list)"
   ]
  },
  {
   "cell_type": "code",
   "execution_count": null,
   "id": "6f9fb96d",
   "metadata": {
    "id": "6f9fb96d",
    "pycharm": {
     "name": "#%%\n"
    }
   },
   "outputs": [],
   "source": [
    "unique_keys = set(key_list)"
   ]
  },
  {
   "cell_type": "code",
   "execution_count": null,
   "id": "3473ea24",
   "metadata": {
    "id": "3473ea24",
    "pycharm": {
     "name": "#%%\n"
    }
   },
   "outputs": [],
   "source": [
    "len(unique_keys)"
   ]
  },
  {
   "cell_type": "code",
   "execution_count": null,
   "id": "368fdfd3",
   "metadata": {
    "id": "368fdfd3",
    "pycharm": {
     "name": "#%%\n"
    }
   },
   "outputs": [],
   "source": [
    "key_columns = unique_keys\n",
    "key_rows = []\n",
    "for i in desc:\n",
    "    tmp_list = []\n",
    "    for key in unique_keys:\n",
    "        try:\n",
    "            if key in i:\n",
    "                tmp_list.append(1)\n",
    "            else:\n",
    "                tmp_list.append(0)\n",
    "        except TypeError:\n",
    "            continue\n",
    "    key_rows.append(tmp_list)\n",
    "key_categorical = pd.DataFrame(data=key_rows, columns = key_columns)\n",
    "\n"
   ]
  },
  {
   "cell_type": "code",
   "execution_count": null,
   "id": "2462a094",
   "metadata": {
    "id": "2462a094",
    "pycharm": {
     "name": "#%%\n"
    }
   },
   "outputs": [],
   "source": [
    "k = key_categorical.corrwith(df[\"price\"], method='spearman').sort_values(ascending=False)\n"
   ]
  },
  {
   "cell_type": "code",
   "execution_count": null,
   "id": "07eafcca",
   "metadata": {
    "id": "07eafcca",
    "pycharm": {
     "name": "#%%\n"
    }
   },
   "outputs": [],
   "source": [
    "from pandas import DataFrame\n",
    "from IPython.display import HTML\n",
    "HTML(DataFrame(k).to_html())"
   ]
  },
  {
   "cell_type": "code",
   "execution_count": null,
   "id": "c93e80fa",
   "metadata": {
    "id": "c93e80fa",
    "pycharm": {
     "name": "#%%\n"
    }
   },
   "outputs": [],
   "source": [
    "key_categorical = key_categorical[['sofa', 'housekeeping', 'appliances', 'fireplace',\n",
    "                                  'modern', 'luxurious', 'van', 'roof', 'ceilings',\n",
    "                                  'shared', 'private', 'bus', 'metro', 'roommates', 'baths',\n",
    "                                  'historic', 'balconies', 'grill', 'rooms', 'basement', 'cozy',\n",
    "                                  'pool', 'patio']]"
   ]
  },
  {
   "cell_type": "code",
   "execution_count": null,
   "id": "48905500",
   "metadata": {
    "id": "48905500",
    "pycharm": {
     "name": "#%%\n"
    }
   },
   "outputs": [],
   "source": [
    "key_categorical.head(5)"
   ]
  },
  {
   "cell_type": "code",
   "execution_count": null,
   "id": "28797a86",
   "metadata": {
    "id": "28797a86",
    "pycharm": {
     "name": "#%%\n"
    }
   },
   "outputs": [],
   "source": [
    "key_categorical.isnull().sum()"
   ]
  },
  {
   "cell_type": "code",
   "execution_count": null,
   "id": "e990800f",
   "metadata": {
    "id": "e990800f",
    "pycharm": {
     "name": "#%%\n"
    }
   },
   "outputs": [],
   "source": [
    "df = pd.concat([df, key_categorical], axis=1)"
   ]
  },
  {
   "cell_type": "code",
   "execution_count": null,
   "id": "397a6d17",
   "metadata": {
    "id": "397a6d17",
    "pycharm": {
     "name": "#%%\n"
    }
   },
   "outputs": [],
   "source": [
    "# Drop single and text values\n",
    "cat_list = ['name', 'summary', 'description', 'host_location',\n",
    "    'host_about', 'host_neighbourhood', 'host_verifications',\n",
    "    'neighbourhood_cleansed','market', 'country_code', 'country', 'host_since',\n",
    "     'neighborhood_overview', 'transit', 'host_since']\n",
    "df = df.drop(cat_list, axis=1)"
   ]
  },
  {
   "cell_type": "code",
   "execution_count": null,
   "id": "971ab0c8",
   "metadata": {
    "id": "971ab0c8",
    "pycharm": {
     "name": "#%%\n"
    }
   },
   "outputs": [],
   "source": [
    "plt.subplots(figsize=(45,20))\n",
    "sns.heatmap(df.corr(),cmap='YlGnBu',annot=True, linewidth=.5)"
   ]
  },
  {
   "cell_type": "code",
   "execution_count": null,
   "id": "4ceef651",
   "metadata": {
    "id": "4ceef651",
    "pycharm": {
     "name": "#%%\n"
    }
   },
   "outputs": [],
   "source": [
    "df.hist(figsize=(20,20), xrot=-45)"
   ]
  },
  {
   "cell_type": "code",
   "execution_count": null,
   "id": "984fd9dd",
   "metadata": {
    "id": "984fd9dd",
    "pycharm": {
     "name": "#%%\n"
    }
   },
   "outputs": [],
   "source": [
    "sns.violinplot(data=df, x='price')\n"
   ]
  },
  {
   "cell_type": "markdown",
   "id": "3c7fe87b",
   "metadata": {
    "id": "3c7fe87b",
    "pycharm": {
     "name": "#%% md\n"
    }
   },
   "source": [
    "## Data proccecing"
   ]
  },
  {
   "cell_type": "code",
   "execution_count": null,
   "id": "f2c0464f",
   "metadata": {
    "id": "f2c0464f",
    "pycharm": {
     "name": "#%%\n"
    }
   },
   "outputs": [],
   "source": [
    "df.isnull().sum()"
   ]
  },
  {
   "cell_type": "code",
   "execution_count": null,
   "id": "ff452ed3",
   "metadata": {
    "id": "ff452ed3",
    "pycharm": {
     "name": "#%%\n"
    }
   },
   "outputs": [],
   "source": [
    "df.info()"
   ]
  },
  {
   "cell_type": "code",
   "execution_count": null,
   "id": "f14aa855",
   "metadata": {
    "id": "f14aa855",
    "pycharm": {
     "name": "#%%\n"
    }
   },
   "outputs": [],
   "source": [
    "df['amenities'] = df['amenities'].apply(\n",
    "    lambda x: [] if x == '{}' else sorted(list(map(lambda x: x.replace('\"','') , x[1:-1].split(',') ) )  ))\n",
    "\n",
    "unique_amenities = []\n",
    "for item in df['amenities']:\n",
    "    for i in item:\n",
    "        if i not in unique_amenities:\n",
    "            unique_amenities.append(i)\n",
    "unique_amenities = sorted(unique_amenities)\n",
    "\n",
    "amenities_columns = unique_amenities\n",
    "amenities_rows = []\n",
    "for i in df['amenities']:\n",
    "    tmp_list = []\n",
    "    for amenity in unique_amenities:\n",
    "        if amenity in i:\n",
    "            tmp_list.append(1)\n",
    "        else:\n",
    "            tmp_list.append(0)\n",
    "    amenities_rows.append(tmp_list)\n",
    "amenities_categorical = pd.DataFrame(data=amenities_rows, columns = amenities_columns)\n",
    "amenities_categorical = amenities_categorical.dropna()\n",
    "df = pd.concat([df, amenities_categorical], axis=1)\n",
    "df = df.drop('amenities', axis=1)\n"
   ]
  },
  {
   "cell_type": "code",
   "execution_count": null,
   "id": "49219e44",
   "metadata": {
    "id": "49219e44",
    "pycharm": {
     "name": "#%%\n"
    }
   },
   "outputs": [],
   "source": [
    "amenities_categorical"
   ]
  },
  {
   "cell_type": "code",
   "execution_count": null,
   "id": "7e7c4022",
   "metadata": {
    "id": "7e7c4022",
    "pycharm": {
     "name": "#%%\n"
    }
   },
   "outputs": [],
   "source": [
    "df = pd.get_dummies(df)"
   ]
  },
  {
   "cell_type": "code",
   "execution_count": null,
   "id": "10d2a0e6",
   "metadata": {
    "id": "10d2a0e6",
    "pycharm": {
     "name": "#%%\n"
    }
   },
   "outputs": [],
   "source": [
    "list_of_na = ['host_response_rate', 'host_acceptance_rate', 'review_scores_value',\n",
    "              'reviews_per_month', 'cleaning_fee', 'bathrooms', 'bedrooms', 'beds',\n",
    "              'bedrooms', 'review_scores_rating', 'review_scores_accuracy', 'review_scores_cleanliness',\n",
    "              'review_scores_checkin', 'review_scores_communication', 'review_scores_location', 'reviews_per_month']\n",
    "\n",
    "\n",
    "correlation = {}\n",
    "for col in list_of_na:\n",
    "    na_list = []\n",
    "    for i in range(1,10):\n",
    "        df_knn = df\n",
    "        imputer = KNNImputer(n_neighbors=i, weights='uniform', metric='nan_euclidean')\n",
    "        imputer.fit(df_knn)\n",
    "        Xtrans = imputer.transform(df_knn)\n",
    "        df_reduced = pd.DataFrame(Xtrans)\n",
    "        df_reduced.columns = df_knn.columns\n",
    "        df_knn = df_reduced\n",
    "        for column in list_of_na:\n",
    "            df_knn[column] = df_knn[column].apply(lambda x: int(round(x)))\n",
    "\n",
    "        df_knn['bathrooms'] = df_knn['bathrooms'].apply(lambda x: round(x * 2) / 2)\n",
    "        na_list.append(spearmanr(df_knn.price, df_knn[[col]]).correlation)\n",
    "    correlation[col] = na_list\n"
   ]
  },
  {
   "cell_type": "code",
   "execution_count": null,
   "id": "9ebe8d3a",
   "metadata": {
    "id": "9ebe8d3a",
    "pycharm": {
     "name": "#%%\n"
    }
   },
   "outputs": [],
   "source": [
    "fig, axs = plt.subplots(4, 4, figsize=(15,15))\n",
    "axs = axs.ravel()\n",
    "for i in range(0,14):\n",
    "    axs[i].plot(range(1,10),list(correlation.values())[i],color='red', linestyle='dashed', marker='x',\n",
    "    markerfacecolor='green', markersize=7)\n",
    "    axs[i].set_title(list(correlation.keys())[i])\n"
   ]
  },
  {
   "cell_type": "code",
   "execution_count": null,
   "id": "c14766fd",
   "metadata": {
    "id": "c14766fd",
    "pycharm": {
     "name": "#%%\n"
    }
   },
   "outputs": [],
   "source": [
    "impute = KNNImputer(n_neighbors=7)\n",
    "df[['host_response_rate']] = impute.fit_transform(df[['host_response_rate']])\n",
    "df[['host_acceptance_rate']] = impute.fit_transform(df[['host_acceptance_rate']])\n",
    "df[['review_scores_value']] = impute.fit_transform(df[['review_scores_value']])\n",
    "df[['reviews_per_month']] = impute.fit_transform(df[['reviews_per_month']])\n",
    "df[['cleaning_fee']] = impute.fit_transform(df[['cleaning_fee']])\n",
    "df[['bathrooms']] = impute.fit_transform(df[['bathrooms']])\n",
    "df[['bedrooms']] = impute.fit_transform(df[['bedrooms']])\n",
    "df[['beds']] = impute.fit_transform(df[['beds']])\n",
    "df[['bedrooms']] = impute.fit_transform(df[['bedrooms']])\n",
    "df[['review_scores_rating']] = impute.fit_transform(df[['review_scores_rating']])\n",
    "df[['review_scores_accuracy']] = impute.fit_transform(df[['review_scores_accuracy']])\n",
    "df[['review_scores_cleanliness']] = impute.fit_transform(df[['review_scores_cleanliness']])\n",
    "df[['review_scores_checkin']] = impute.fit_transform(df[['review_scores_checkin']])\n",
    "df[['review_scores_communication']] = impute.fit_transform(df[['review_scores_communication']])\n",
    "df[['review_scores_location']] = impute.fit_transform(df[['review_scores_location']])\n",
    "df[['reviews_per_month']] = impute.fit_transform(df[['reviews_per_month']])"
   ]
  },
  {
   "cell_type": "code",
   "execution_count": null,
   "id": "ccaa58bd",
   "metadata": {
    "scrolled": true,
    "id": "ccaa58bd",
    "pycharm": {
     "name": "#%%\n"
    }
   },
   "outputs": [],
   "source": [
    "df.isnull().sum()[0:50]"
   ]
  },
  {
   "cell_type": "code",
   "execution_count": null,
   "id": "a8d9008f",
   "metadata": {
    "id": "a8d9008f",
    "pycharm": {
     "name": "#%%\n"
    }
   },
   "outputs": [],
   "source": [
    "df = df.dropna()"
   ]
  },
  {
   "cell_type": "code",
   "execution_count": null,
   "id": "15a5efc8",
   "metadata": {
    "id": "15a5efc8",
    "pycharm": {
     "name": "#%%\n"
    }
   },
   "outputs": [],
   "source": [
    "df.info()"
   ]
  },
  {
   "cell_type": "markdown",
   "id": "9b1a488f",
   "metadata": {
    "id": "9b1a488f",
    "pycharm": {
     "name": "#%% md\n"
    }
   },
   "source": [
    "### Outliers detection"
   ]
  },
  {
   "cell_type": "code",
   "execution_count": null,
   "id": "1b4b4348",
   "metadata": {
    "id": "1b4b4348",
    "pycharm": {
     "name": "#%%\n"
    }
   },
   "outputs": [],
   "source": [
    "plt.scatter(range(df.shape[0]), np.log(np.sort(df['price'].values)))\n",
    "plt.xlabel('index')\n",
    "plt.ylabel('price')\n",
    "plt.title(\"Price distribution\")\n",
    "sns.despine()"
   ]
  },
  {
   "cell_type": "code",
   "execution_count": null,
   "id": "9d972177",
   "metadata": {
    "id": "9d972177",
    "pycharm": {
     "name": "#%%\n"
    }
   },
   "outputs": [],
   "source": [
    "sns.distplot(np.log(df['price']))\n",
    "plt.title(\"Distribution\")\n",
    "sns.despine()\n"
   ]
  },
  {
   "cell_type": "code",
   "execution_count": null,
   "id": "f2aac2fc",
   "metadata": {
    "id": "f2aac2fc",
    "pycharm": {
     "name": "#%%\n"
    }
   },
   "outputs": [],
   "source": [
    "print(\"Skewness: %f\" % np.log(df['price'].skew()))\n",
    "print(\"Kurtosis: %f\" % np.log(df['price'].kurt()))"
   ]
  },
  {
   "cell_type": "code",
   "execution_count": null,
   "id": "d3885a01",
   "metadata": {
    "id": "d3885a01",
    "pycharm": {
     "name": "#%%\n"
    }
   },
   "outputs": [],
   "source": [
    "likely_cat = {}\n",
    "for var in df.columns:\n",
    "    likely_cat[var] = 1.*df[var].nunique()/df[var].count() < 0.05 #or some other threshold\n",
    "likely_cat"
   ]
  },
  {
   "cell_type": "code",
   "execution_count": null,
   "id": "18a780b9",
   "metadata": {
    "id": "18a780b9",
    "pycharm": {
     "name": "#%%\n"
    }
   },
   "outputs": [],
   "source": [
    "categ = df.loc[:, df.columns != 'number_of_reviews']\n",
    "categ = categ.loc[: ,categ.columns != 'reviews_per_month']\n",
    "categ = categ.loc[: ,categ.columns != 'cleaning_fee']\n"
   ]
  },
  {
   "cell_type": "code",
   "execution_count": null,
   "id": "5ba5c8c6",
   "metadata": {
    "id": "5ba5c8c6",
    "pycharm": {
     "name": "#%%\n"
    }
   },
   "outputs": [],
   "source": [
    "print(categ.corrwith(df[\"price\"], method='spearman').sort_values(ascending=False)[1:10])\n",
    "print(categ.corrwith(df[\"price\"], method='spearman').sort_values(ascending=False)[-10:-1])\n"
   ]
  },
  {
   "cell_type": "code",
   "execution_count": null,
   "id": "9bb1b8d6",
   "metadata": {
    "id": "9bb1b8d6",
    "pycharm": {
     "name": "#%%\n"
    }
   },
   "outputs": [],
   "source": [
    "df[['number_of_reviews', 'reviews_per_month', 'cleaning_fee']].corrwith(df[\"price\"], method='pearson').sort_values(ascending=False)"
   ]
  },
  {
   "cell_type": "code",
   "execution_count": null,
   "id": "1124b0f2",
   "metadata": {
    "id": "1124b0f2",
    "pycharm": {
     "name": "#%%\n"
    }
   },
   "outputs": [],
   "source": [
    "isolation_forest = IsolationForest(n_estimators=100)\n",
    "isolation_forest.fit(df['price'].values.reshape(-1, 1))\n",
    "xx = np.linspace(df['price'].min(), df['price'].max(), len(df)).reshape(-1,1)\n",
    "anomaly_score = isolation_forest.decision_function(xx)\n",
    "outlier = isolation_forest.predict(xx)\n",
    "plt.figure(figsize=(10,4))\n",
    "plt.plot(xx, anomaly_score, label='anomaly score')\n",
    "plt.fill_between(xx.T[0], np.min(anomaly_score), np.max(anomaly_score),\n",
    "                 where=outlier==-1, color='r',\n",
    "                 alpha=.4, label='outlier region')\n",
    "plt.legend()\n",
    "plt.ylabel('anomaly score')\n",
    "plt.xlabel('price')\n",
    "plt.show()"
   ]
  },
  {
   "cell_type": "code",
   "execution_count": null,
   "id": "96193a0b",
   "metadata": {
    "id": "96193a0b",
    "pycharm": {
     "name": "#%%\n"
    }
   },
   "outputs": [],
   "source": [
    "sns.regplot(x=\"price\", y=\"bedrooms\", data=df)\n",
    "sns.despine()\n"
   ]
  },
  {
   "cell_type": "code",
   "execution_count": null,
   "id": "2ae79f1e",
   "metadata": {
    "id": "2ae79f1e",
    "pycharm": {
     "name": "#%%\n"
    }
   },
   "outputs": [],
   "source": [
    "sns.regplot(x=\"price\", y=\"accommodates\", data=df)\n",
    "sns.despine()"
   ]
  },
  {
   "cell_type": "code",
   "execution_count": null,
   "id": "94de4b86",
   "metadata": {
    "id": "94de4b86",
    "pycharm": {
     "name": "#%%\n"
    }
   },
   "outputs": [],
   "source": [
    "sns.regplot(x=\"price\", y=\"bathrooms\", data=df)\n",
    "sns.despine()"
   ]
  },
  {
   "cell_type": "code",
   "execution_count": null,
   "id": "2c2d0da7",
   "metadata": {
    "id": "2c2d0da7",
    "pycharm": {
     "name": "#%%\n"
    }
   },
   "outputs": [],
   "source": [
    "sns.regplot(x=\"price\", y=\"beds\", data=df)\n",
    "sns.despine()"
   ]
  },
  {
   "cell_type": "code",
   "execution_count": null,
   "id": "3afbaef5",
   "metadata": {
    "id": "3afbaef5",
    "pycharm": {
     "name": "#%%\n"
    }
   },
   "outputs": [],
   "source": [
    "sns.regplot(x=\"price\", y=\"cleaning_fee\", data=df)\n",
    "sns.despine()"
   ]
  },
  {
   "cell_type": "code",
   "execution_count": null,
   "id": "338dbf75",
   "metadata": {
    "id": "338dbf75",
    "pycharm": {
     "name": "#%%\n"
    }
   },
   "outputs": [],
   "source": [
    "sns.regplot(x=\"price\", y=\"guests_included\", data=df)\n",
    "sns.despine()"
   ]
  },
  {
   "cell_type": "code",
   "execution_count": null,
   "id": "ed02eb4e",
   "metadata": {
    "id": "ed02eb4e",
    "pycharm": {
     "name": "#%%\n"
    }
   },
   "outputs": [],
   "source": [
    "df.boxplot(column=['price'] ,rot=45)"
   ]
  },
  {
   "cell_type": "code",
   "execution_count": null,
   "id": "e25e6954",
   "metadata": {
    "id": "e25e6954",
    "pycharm": {
     "name": "#%%\n"
    }
   },
   "outputs": [],
   "source": [
    "df.boxplot(column=['cleaning_fee'] ,rot=45)"
   ]
  },
  {
   "cell_type": "code",
   "execution_count": null,
   "id": "a0940869",
   "metadata": {
    "id": "a0940869",
    "pycharm": {
     "name": "#%%\n"
    }
   },
   "outputs": [],
   "source": [
    "df.boxplot(column=['beds'] ,rot=45)"
   ]
  },
  {
   "cell_type": "code",
   "execution_count": null,
   "id": "8bd48404",
   "metadata": {
    "id": "8bd48404",
    "pycharm": {
     "name": "#%%\n"
    }
   },
   "outputs": [],
   "source": [
    "df.boxplot(column=['bathrooms'] ,rot=45)"
   ]
  },
  {
   "cell_type": "code",
   "execution_count": null,
   "id": "b84cc5fa",
   "metadata": {
    "id": "b84cc5fa",
    "pycharm": {
     "name": "#%%\n"
    }
   },
   "outputs": [],
   "source": [
    "df = df.dropna()"
   ]
  },
  {
   "cell_type": "code",
   "execution_count": null,
   "id": "0e48894b",
   "metadata": {
    "id": "0e48894b",
    "pycharm": {
     "name": "#%%\n"
    }
   },
   "outputs": [],
   "source": [
    "X = df.values\n",
    "db = DBSCAN(eps=250, min_samples=9, metric='euclidean')\n",
    "y_db = db.fit_predict(X)"
   ]
  },
  {
   "cell_type": "code",
   "execution_count": null,
   "id": "621c25e6",
   "metadata": {
    "id": "621c25e6",
    "pycharm": {
     "name": "#%%\n"
    }
   },
   "outputs": [],
   "source": [
    "outlier_index = np.where(y_db == -1)\n",
    "outlier_values = df.iloc[outlier_index]\n",
    "outlier_values.shape"
   ]
  },
  {
   "cell_type": "code",
   "execution_count": null,
   "id": "1f4efa4f",
   "metadata": {
    "id": "1f4efa4f",
    "pycharm": {
     "name": "#%%\n"
    }
   },
   "outputs": [],
   "source": [
    "X_embedded = TSNE(n_components=2).fit_transform(df)\n",
    "\n",
    "plt.scatter(x=X_embedded[:,0], y=X_embedded[:,1] , c=y_db, cmap=\"plasma\")\n",
    "plt.xlabel(\"Feature 0\")\n",
    "plt.ylabel(\"Feature 1\")"
   ]
  },
  {
   "cell_type": "code",
   "execution_count": null,
   "id": "f94ea444",
   "metadata": {
    "id": "f94ea444",
    "pycharm": {
     "name": "#%%\n"
    }
   },
   "outputs": [],
   "source": [
    "model = OneClassSVM(kernel = 'rbf', gamma = 0.00001, nu = 0.0001).fit(X)\n",
    "y_pred = model.predict(X)"
   ]
  },
  {
   "cell_type": "code",
   "execution_count": null,
   "id": "c8342655",
   "metadata": {
    "id": "c8342655",
    "pycharm": {
     "name": "#%%\n"
    }
   },
   "outputs": [],
   "source": [
    "X_embedded = TSNE(n_components=2).fit_transform(df)\n",
    "\n",
    "plt.scatter(x=X_embedded[:,0], y=X_embedded[:,1] , c=y_pred, cmap=\"plasma\")\n",
    "plt.xlabel(\"Feature 0\")\n",
    "plt.ylabel(\"Feature 1\")"
   ]
  },
  {
   "cell_type": "code",
   "execution_count": null,
   "id": "ad3b1eba",
   "metadata": {
    "id": "ad3b1eba",
    "pycharm": {
     "name": "#%%\n"
    }
   },
   "outputs": [],
   "source": [
    "outlier_index = np.where(y_pred == -1)\n",
    "outlier_values = df.iloc[outlier_index]\n",
    "outlier_values.shape"
   ]
  },
  {
   "cell_type": "code",
   "execution_count": null,
   "id": "0f2ecdac",
   "metadata": {
    "id": "0f2ecdac",
    "pycharm": {
     "name": "#%%\n"
    }
   },
   "outputs": [],
   "source": [
    "df = df.loc[df['price']<300]\n",
    "df = df.loc[df['bedrooms']<6]\n",
    "df = df.loc[df['bathrooms']<5]\n",
    "df = df.loc[df['beds']<8]\n",
    "df = df.loc[df['guests_included']<12]\n",
    "df = df.loc[df['cleaning_fee']<160]\n",
    "df.shape"
   ]
  },
  {
   "cell_type": "markdown",
   "id": "aa2a2049",
   "metadata": {
    "id": "aa2a2049",
    "pycharm": {
     "name": "#%% md\n"
    }
   },
   "source": [
    "## Models training"
   ]
  },
  {
   "cell_type": "code",
   "execution_count": null,
   "id": "a0386c37",
   "metadata": {
    "id": "a0386c37",
    "pycharm": {
     "name": "#%%\n"
    }
   },
   "outputs": [],
   "source": [
    "df1 = df.iloc[:300]\n",
    "X_val = df1.drop('price', axis=1)\n",
    "y_val = df1['price']\n",
    "df = df.iloc[300:]"
   ]
  },
  {
   "cell_type": "code",
   "execution_count": null,
   "id": "17b8c2dd",
   "metadata": {
    "id": "17b8c2dd",
    "pycharm": {
     "name": "#%%\n"
    }
   },
   "outputs": [],
   "source": [
    "X, y = df.iloc[:, df.columns != 'price'].values, \\\n",
    "       df.iloc[:, df.columns == 'price'].values"
   ]
  },
  {
   "cell_type": "code",
   "execution_count": null,
   "id": "4cdf7be5",
   "metadata": {
    "id": "4cdf7be5",
    "pycharm": {
     "name": "#%%\n"
    }
   },
   "outputs": [],
   "source": [
    "X_train, X_test, y_train, y_test = \\\n",
    "    model_selection.train_test_split(X, y, test_size=0.3, random_state=0)"
   ]
  },
  {
   "cell_type": "code",
   "execution_count": null,
   "id": "a366889d",
   "metadata": {
    "id": "a366889d",
    "pycharm": {
     "name": "#%%\n"
    }
   },
   "outputs": [],
   "source": [
    "params = {'depth':[3,1,2,6,4,5,7,8,9,10],\n",
    "          'iterations':[250,100,500,1000],\n",
    "          'learning_rate':[0.03,0.001,0.01,0.1,0.2,0.3],\n",
    "          'l2_leaf_reg':[3,1,5,10,100]}\n",
    "\n",
    "\n",
    "model = CatBoostRegressor()\n",
    "grid = GridSearchCV(estimator=model, param_grid = params, cv = 2, n_jobs=-1)\n",
    "grid.fit(X_train, y_train)"
   ]
  },
  {
   "cell_type": "code",
   "execution_count": null,
   "id": "418f1f9d",
   "metadata": {
    "id": "418f1f9d",
    "pycharm": {
     "name": "#%%\n"
    }
   },
   "outputs": [],
   "source": [
    "grid.best_params_"
   ]
  },
  {
   "cell_type": "code",
   "execution_count": null,
   "id": "1dc4065a",
   "metadata": {
    "id": "1dc4065a",
    "pycharm": {
     "name": "#%%\n"
    }
   },
   "outputs": [],
   "source": [
    "cat = CatBoostRegressor(iterations=100,\n",
    "                          learning_rate=0.001,\n",
    "                          depth=10,\n",
    "                          l2_leaf_reg=100)\n",
    "cat.fit(X_train, y_train)"
   ]
  },
  {
   "cell_type": "code",
   "execution_count": null,
   "id": "694d1ad1",
   "metadata": {
    "id": "694d1ad1",
    "pycharm": {
     "name": "#%%\n"
    }
   },
   "outputs": [],
   "source": [
    "preds = cat.predict(X_test)\n",
    "print(np.sqrt(mean_squared_error(preds, y_test)))\n",
    "print(mean_absolute_error(preds, y_test))"
   ]
  },
  {
   "cell_type": "code",
   "execution_count": null,
   "id": "7d8b19a8",
   "metadata": {
    "id": "7d8b19a8",
    "pycharm": {
     "name": "#%%\n"
    }
   },
   "outputs": [],
   "source": [
    "train_pool = Pool(X_train, y_train)\n",
    "validate_pool = Pool(X_test, y_test)"
   ]
  },
  {
   "cell_type": "code",
   "execution_count": null,
   "id": "2b91098b",
   "metadata": {
    "id": "2b91098b",
    "pycharm": {
     "name": "#%%\n"
    }
   },
   "outputs": [],
   "source": [
    "feature_importances = cat.get_feature_importance(train_pool)\n",
    "feature_names = X_val.columns\n",
    "for score, name in sorted(zip(feature_importances, feature_names), reverse=True):\n",
    "    print('{}: {}'.format(name, score))\n"
   ]
  },
  {
   "cell_type": "code",
   "execution_count": null,
   "id": "44e636c4",
   "metadata": {
    "id": "44e636c4",
    "pycharm": {
     "name": "#%%\n"
    }
   },
   "outputs": [],
   "source": [
    "explainer = shap.Explainer(cat.predict, X_test)\n",
    "shap_values = explainer(X_test)"
   ]
  },
  {
   "cell_type": "code",
   "execution_count": null,
   "id": "374da721",
   "metadata": {
    "id": "374da721",
    "pycharm": {
     "name": "#%%\n"
    }
   },
   "outputs": [],
   "source": [
    "shap.summary_plot(shap_values, X_val, plot_type=\"bar\")"
   ]
  },
  {
   "cell_type": "code",
   "execution_count": null,
   "id": "bcb162a6",
   "metadata": {
    "id": "bcb162a6",
    "pycharm": {
     "name": "#%%\n"
    }
   },
   "outputs": [],
   "source": [
    "from sklearn.ensemble import RandomForestRegressor\n",
    "regr = RandomForestRegressor(max_depth=2, random_state=0)\n",
    "regr.fit(X_train, np.log(y_train))"
   ]
  },
  {
   "cell_type": "code",
   "execution_count": null,
   "id": "f8d6695d",
   "metadata": {
    "id": "f8d6695d",
    "pycharm": {
     "name": "#%%\n"
    }
   },
   "outputs": [],
   "source": [
    "preds = np.exp(regr.predict(X_test))\n",
    "print(np.sqrt(mean_squared_error(preds, y_test)))\n",
    "print(mean_absolute_error(preds, y_test))"
   ]
  },
  {
   "cell_type": "code",
   "execution_count": null,
   "id": "ffbccb78",
   "metadata": {
    "id": "ffbccb78",
    "pycharm": {
     "name": "#%%\n"
    }
   },
   "outputs": [],
   "source": [
    "explainer = shap.TreeExplainer(regr)\n",
    "shap_values = explainer.shap_values(X_test)\n",
    "shap.summary_plot(shap_values, X_val, plot_type=\"bar\")\n"
   ]
  },
  {
   "cell_type": "code",
   "execution_count": null,
   "id": "fc313f20",
   "metadata": {
    "id": "fc313f20",
    "pycharm": {
     "name": "#%%\n"
    }
   },
   "outputs": [],
   "source": [
    "params = {'max_depth':[3,1,2,6,4,5,7,8,9,10],\n",
    "          'n_estimators':[250,100,500,1000],\n",
    "          'eta':[0.03,0.001,0.01,0.1,0.2,0.3],\n",
    "          'subsample':[0.1,0.3,0.5,100]}\n",
    "\n",
    "\n",
    "model = XGBRegressor()\n",
    "grid = GridSearchCV(estimator=model, param_grid = params, cv = 2, n_jobs=-1)\n",
    "grid.fit(X_train, y_train)"
   ]
  },
  {
   "cell_type": "code",
   "execution_count": null,
   "id": "60f8e452",
   "metadata": {
    "id": "60f8e452",
    "pycharm": {
     "name": "#%%\n"
    }
   },
   "outputs": [],
   "source": [
    "xgb = XGBRegressor(n_estimators=1000, max_depth=7, eta=0.1, subsample=0.7, colsample_bytree=0.8)\n",
    "xgb.fit(X_train, y_train)\n",
    "\n"
   ]
  },
  {
   "cell_type": "code",
   "execution_count": null,
   "id": "f16be5c0",
   "metadata": {
    "id": "f16be5c0",
    "pycharm": {
     "name": "#%%\n"
    }
   },
   "outputs": [],
   "source": [
    "preds = xgb.predict(X_test)\n",
    "print(np.sqrt(mean_squared_error(preds, y_test)))\n",
    "print(mean_absolute_error(preds, y_test))"
   ]
  },
  {
   "cell_type": "code",
   "execution_count": null,
   "id": "28c73319",
   "metadata": {
    "id": "28c73319",
    "pycharm": {
     "name": "#%%\n"
    }
   },
   "outputs": [],
   "source": [
    "explainer = shap.TreeExplainer(xgb)\n",
    "shap_values = explainer.shap_values(X_test)\n",
    "shap.summary_plot(shap_values, X_val, plot_type=\"bar\")"
   ]
  },
  {
   "cell_type": "code",
   "execution_count": null,
   "id": "02cdabc3",
   "metadata": {
    "id": "02cdabc3",
    "pycharm": {
     "name": "#%%\n"
    }
   },
   "outputs": [],
   "source": [
    "lgbm = LGBMRegressor(random_state=37)\n",
    "lgbm.fit(X_train, y_train)"
   ]
  },
  {
   "cell_type": "code",
   "execution_count": null,
   "id": "938fca06",
   "metadata": {
    "id": "938fca06",
    "pycharm": {
     "name": "#%%\n"
    }
   },
   "outputs": [],
   "source": [
    "preds = lgbm.predict(X_test)\n",
    "print(np.sqrt(mean_squared_error(preds, y_test)))\n",
    "print(mean_absolute_error(preds, y_test))"
   ]
  },
  {
   "cell_type": "code",
   "execution_count": null,
   "id": "6f2346c7",
   "metadata": {
    "id": "6f2346c7",
    "pycharm": {
     "name": "#%%\n"
    }
   },
   "outputs": [],
   "source": [
    "explainer = shap.TreeExplainer(lgbm)\n",
    "shap_values = explainer.shap_values(X_test)\n",
    "shap.summary_plot(shap_values, X_val, plot_type=\"bar\")"
   ]
  },
  {
   "cell_type": "code",
   "execution_count": null,
   "id": "1e6129ac",
   "metadata": {
    "id": "1e6129ac",
    "pycharm": {
     "name": "#%%\n"
    }
   },
   "outputs": [],
   "source": [
    "from sklearn.ensemble import StackingRegressor\n",
    "\n",
    "ensemble_model = StackingRegressor([\n",
    "    (\"catboost\", cat),\n",
    "    (\"random forest\", regr),\n",
    "    ('xgboost', xgb),\n",
    "    ('lightgbm', lgbm)\n",
    "\n",
    "], final_estimator=XGBRegressor())\n",
    "ensemble_model.fit(X=X_train, y=y_train)\n",
    "preds= ensemble_model.predict(X_test)\n",
    "print(np.sqrt(mean_squared_error(preds, y_test)))\n",
    "print(mean_absolute_error(preds, y_test))"
   ]
  },
  {
   "cell_type": "code",
   "execution_count": null,
   "id": "32face33",
   "metadata": {
    "id": "32face33",
    "pycharm": {
     "name": "#%%\n"
    }
   },
   "outputs": [],
   "source": [
    "preds = lgbm.predict(X_val)\n",
    "print(np.sqrt(mean_squared_error(preds, y_val)))\n",
    "print(mean_absolute_error(preds, y_val))"
   ]
  },
  {
   "cell_type": "markdown",
   "id": "9744ac95",
   "metadata": {
    "id": "9744ac95",
    "pycharm": {
     "name": "#%% md\n"
    }
   },
   "source": [
    "#### Results board\n",
    "\n",
    "| Model         | MAE| RMSE| Description                              |\n",
    "| ------------- | -- | --- | ---------------------------------------- |\n",
    "| CatBoost      | 66 | 109 | with auto categorical features           |\n",
    "| Catboost      | 77 | 150 | with minimal preprocessing               |\n",
    "| Random Forest | 57 | 130 | with minimal preprocessing               |\n",
    "| CatBoost      | 44 | 57  | with deleted outliers and LabelBinarizer |\n",
    "| Random Forest | 33 | 44  | with deleted outliers and LabelBinarizer |\n",
    "| CatBoost      | 44 | 57  | with deleted outliers and get dummies    |\n",
    "| Random Forest | 32 | 44  | with deleted outliers and get dummies    |\n",
    "| Random Forest | 31 | 44  | with deleted outliers and get dummies and text columns|\n",
    "| XGBoost | 25 | 36| with deleted outliers and get dummies and text columns|\n"
   ]
  },
  {
   "cell_type": "code",
   "execution_count": null,
   "id": "f31b395b",
   "metadata": {
    "id": "f31b395b",
    "pycharm": {
     "name": "#%%\n"
    }
   },
   "outputs": [],
   "source": []
  }
 ],
 "metadata": {
  "kernelspec": {
   "display_name": "Python 3 (ipykernel)",
   "language": "python",
   "name": "python3"
  },
  "language_info": {
   "codemirror_mode": {
    "name": "ipython",
    "version": 3
   },
   "file_extension": ".py",
   "mimetype": "text/x-python",
   "name": "python",
   "nbconvert_exporter": "python",
   "pygments_lexer": "ipython3",
   "version": "3.9.7"
  },
  "colab": {
   "provenance": []
  }
 },
 "nbformat": 4,
 "nbformat_minor": 5
}