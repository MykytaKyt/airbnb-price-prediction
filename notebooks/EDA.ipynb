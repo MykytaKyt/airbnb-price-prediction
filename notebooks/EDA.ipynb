{
 "cells": [
  {
   "cell_type": "code",
   "execution_count": 20,
   "metadata": {
    "collapsed": true,
    "pycharm": {
     "name": "#%%\n"
    },
    "ExecuteTime": {
     "end_time": "2023-09-22T12:55:29.312017800Z",
     "start_time": "2023-09-22T12:55:29.309015100Z"
    }
   },
   "outputs": [],
   "source": [
    "import pandas as pd"
   ]
  },
  {
   "cell_type": "code",
   "execution_count": 21,
   "outputs": [],
   "source": [
    "df = pd.read_csv('../data/outlier_removed.csv')"
   ],
   "metadata": {
    "collapsed": false,
    "ExecuteTime": {
     "end_time": "2023-09-22T12:55:30.106735700Z",
     "start_time": "2023-09-22T12:55:29.430602Z"
    }
   }
  },
  {
   "cell_type": "code",
   "execution_count": 22,
   "outputs": [
    {
     "data": {
      "text/plain": "id                          0\nlog_price                   0\naccommodates                0\nbathrooms                   0\ncleaning_fee                0\n                           ..\nhost_has_profile_pic_t      0\nhost_identity_verified_f    0\nhost_identity_verified_t    0\ninstant_bookable_f          0\ninstant_bookable_t          0\nLength: 230, dtype: int64"
     },
     "execution_count": 22,
     "metadata": {},
     "output_type": "execute_result"
    }
   ],
   "source": [
    "df.isnull().sum()"
   ],
   "metadata": {
    "collapsed": false,
    "ExecuteTime": {
     "end_time": "2023-09-22T12:55:30.192337500Z",
     "start_time": "2023-09-22T12:55:30.116245400Z"
    }
   }
  },
  {
   "cell_type": "code",
   "execution_count": 23,
   "outputs": [
    {
     "data": {
      "text/plain": "             id  log_price  accommodates  bathrooms  cleaning_fee  \\\n0       6901257          5             3          1             1   \n1       6304928          5             7          1             1   \n2       7919400          4             5          1             1   \n3       3808709          4             2          1             1   \n4      12422935          4             2          1             1   \n...         ...        ...           ...        ...           ...   \n52895  14549287          4             1          1             0   \n52896  13281809          5             4          2             1   \n52897  18688039          5             5          1             1   \n52898  17045948          5             2          1             1   \n52899   3534845          4             4          1             0   \n\n       host_response_rate  number_of_reviews  review_scores_rating  bedrooms  \\\n0                      94                  2                   100         1   \n1                     100                  6                    93         3   \n2                     100                 10                    92         1   \n3                     100                  4                    40         0   \n4                     100                  3                   100         1   \n...                   ...                ...                   ...       ...   \n52895                  94                  0                    94         1   \n52896                 100                 16                    93         2   \n52897                 100                 43                    94         2   \n52898                 100                  0                    94         0   \n52899                 100                205                    96         1   \n\n       beds  ...  city_DC  city_LA  city_NYC  city_SF  host_has_profile_pic_f  \\\n0         1  ...        0        0         1        0                       0   \n1         3  ...        0        0         1        0                       0   \n2         3  ...        0        0         1        0                       0   \n3         1  ...        1        0         0        0                       0   \n4         1  ...        0        0         0        1                       0   \n...     ...  ...      ...      ...       ...      ...                     ...   \n52895     1  ...        0        0         1        0                       0   \n52896     4  ...        0        1         0        0                       0   \n52897     2  ...        0        0         1        0                       0   \n52898     2  ...        0        0         1        0                       0   \n52899     2  ...        0        1         0        0                       0   \n\n       host_has_profile_pic_t  host_identity_verified_f  \\\n0                           1                         0   \n1                           1                         1   \n2                           1                         0   \n3                           1                         0   \n4                           1                         0   \n...                       ...                       ...   \n52895                       1                         0   \n52896                       1                         1   \n52897                       1                         0   \n52898                       1                         1   \n52899                       1                         0   \n\n       host_identity_verified_t  instant_bookable_f  instant_bookable_t  \n0                             1                   1                   0  \n1                             0                   0                   1  \n2                             1                   0                   1  \n3                             1                   0                   1  \n4                             1                   0                   1  \n...                         ...                 ...                 ...  \n52895                         1                   1                   0  \n52896                         0                   1                   0  \n52897                         1                   0                   1  \n52898                         0                   0                   1  \n52899                         1                   1                   0  \n\n[52899 rows x 230 columns]",
      "text/html": "<div>\n<style scoped>\n    .dataframe tbody tr th:only-of-type {\n        vertical-align: middle;\n    }\n\n    .dataframe tbody tr th {\n        vertical-align: top;\n    }\n\n    .dataframe thead th {\n        text-align: right;\n    }\n</style>\n<table border=\"1\" class=\"dataframe\">\n  <thead>\n    <tr style=\"text-align: right;\">\n      <th></th>\n      <th>id</th>\n      <th>log_price</th>\n      <th>accommodates</th>\n      <th>bathrooms</th>\n      <th>cleaning_fee</th>\n      <th>host_response_rate</th>\n      <th>number_of_reviews</th>\n      <th>review_scores_rating</th>\n      <th>bedrooms</th>\n      <th>beds</th>\n      <th>...</th>\n      <th>city_DC</th>\n      <th>city_LA</th>\n      <th>city_NYC</th>\n      <th>city_SF</th>\n      <th>host_has_profile_pic_f</th>\n      <th>host_has_profile_pic_t</th>\n      <th>host_identity_verified_f</th>\n      <th>host_identity_verified_t</th>\n      <th>instant_bookable_f</th>\n      <th>instant_bookable_t</th>\n    </tr>\n  </thead>\n  <tbody>\n    <tr>\n      <th>0</th>\n      <td>6901257</td>\n      <td>5</td>\n      <td>3</td>\n      <td>1</td>\n      <td>1</td>\n      <td>94</td>\n      <td>2</td>\n      <td>100</td>\n      <td>1</td>\n      <td>1</td>\n      <td>...</td>\n      <td>0</td>\n      <td>0</td>\n      <td>1</td>\n      <td>0</td>\n      <td>0</td>\n      <td>1</td>\n      <td>0</td>\n      <td>1</td>\n      <td>1</td>\n      <td>0</td>\n    </tr>\n    <tr>\n      <th>1</th>\n      <td>6304928</td>\n      <td>5</td>\n      <td>7</td>\n      <td>1</td>\n      <td>1</td>\n      <td>100</td>\n      <td>6</td>\n      <td>93</td>\n      <td>3</td>\n      <td>3</td>\n      <td>...</td>\n      <td>0</td>\n      <td>0</td>\n      <td>1</td>\n      <td>0</td>\n      <td>0</td>\n      <td>1</td>\n      <td>1</td>\n      <td>0</td>\n      <td>0</td>\n      <td>1</td>\n    </tr>\n    <tr>\n      <th>2</th>\n      <td>7919400</td>\n      <td>4</td>\n      <td>5</td>\n      <td>1</td>\n      <td>1</td>\n      <td>100</td>\n      <td>10</td>\n      <td>92</td>\n      <td>1</td>\n      <td>3</td>\n      <td>...</td>\n      <td>0</td>\n      <td>0</td>\n      <td>1</td>\n      <td>0</td>\n      <td>0</td>\n      <td>1</td>\n      <td>0</td>\n      <td>1</td>\n      <td>0</td>\n      <td>1</td>\n    </tr>\n    <tr>\n      <th>3</th>\n      <td>3808709</td>\n      <td>4</td>\n      <td>2</td>\n      <td>1</td>\n      <td>1</td>\n      <td>100</td>\n      <td>4</td>\n      <td>40</td>\n      <td>0</td>\n      <td>1</td>\n      <td>...</td>\n      <td>1</td>\n      <td>0</td>\n      <td>0</td>\n      <td>0</td>\n      <td>0</td>\n      <td>1</td>\n      <td>0</td>\n      <td>1</td>\n      <td>0</td>\n      <td>1</td>\n    </tr>\n    <tr>\n      <th>4</th>\n      <td>12422935</td>\n      <td>4</td>\n      <td>2</td>\n      <td>1</td>\n      <td>1</td>\n      <td>100</td>\n      <td>3</td>\n      <td>100</td>\n      <td>1</td>\n      <td>1</td>\n      <td>...</td>\n      <td>0</td>\n      <td>0</td>\n      <td>0</td>\n      <td>1</td>\n      <td>0</td>\n      <td>1</td>\n      <td>0</td>\n      <td>1</td>\n      <td>0</td>\n      <td>1</td>\n    </tr>\n    <tr>\n      <th>...</th>\n      <td>...</td>\n      <td>...</td>\n      <td>...</td>\n      <td>...</td>\n      <td>...</td>\n      <td>...</td>\n      <td>...</td>\n      <td>...</td>\n      <td>...</td>\n      <td>...</td>\n      <td>...</td>\n      <td>...</td>\n      <td>...</td>\n      <td>...</td>\n      <td>...</td>\n      <td>...</td>\n      <td>...</td>\n      <td>...</td>\n      <td>...</td>\n      <td>...</td>\n      <td>...</td>\n    </tr>\n    <tr>\n      <th>52895</th>\n      <td>14549287</td>\n      <td>4</td>\n      <td>1</td>\n      <td>1</td>\n      <td>0</td>\n      <td>94</td>\n      <td>0</td>\n      <td>94</td>\n      <td>1</td>\n      <td>1</td>\n      <td>...</td>\n      <td>0</td>\n      <td>0</td>\n      <td>1</td>\n      <td>0</td>\n      <td>0</td>\n      <td>1</td>\n      <td>0</td>\n      <td>1</td>\n      <td>1</td>\n      <td>0</td>\n    </tr>\n    <tr>\n      <th>52896</th>\n      <td>13281809</td>\n      <td>5</td>\n      <td>4</td>\n      <td>2</td>\n      <td>1</td>\n      <td>100</td>\n      <td>16</td>\n      <td>93</td>\n      <td>2</td>\n      <td>4</td>\n      <td>...</td>\n      <td>0</td>\n      <td>1</td>\n      <td>0</td>\n      <td>0</td>\n      <td>0</td>\n      <td>1</td>\n      <td>1</td>\n      <td>0</td>\n      <td>1</td>\n      <td>0</td>\n    </tr>\n    <tr>\n      <th>52897</th>\n      <td>18688039</td>\n      <td>5</td>\n      <td>5</td>\n      <td>1</td>\n      <td>1</td>\n      <td>100</td>\n      <td>43</td>\n      <td>94</td>\n      <td>2</td>\n      <td>2</td>\n      <td>...</td>\n      <td>0</td>\n      <td>0</td>\n      <td>1</td>\n      <td>0</td>\n      <td>0</td>\n      <td>1</td>\n      <td>0</td>\n      <td>1</td>\n      <td>0</td>\n      <td>1</td>\n    </tr>\n    <tr>\n      <th>52898</th>\n      <td>17045948</td>\n      <td>5</td>\n      <td>2</td>\n      <td>1</td>\n      <td>1</td>\n      <td>100</td>\n      <td>0</td>\n      <td>94</td>\n      <td>0</td>\n      <td>2</td>\n      <td>...</td>\n      <td>0</td>\n      <td>0</td>\n      <td>1</td>\n      <td>0</td>\n      <td>0</td>\n      <td>1</td>\n      <td>1</td>\n      <td>0</td>\n      <td>0</td>\n      <td>1</td>\n    </tr>\n    <tr>\n      <th>52899</th>\n      <td>3534845</td>\n      <td>4</td>\n      <td>4</td>\n      <td>1</td>\n      <td>0</td>\n      <td>100</td>\n      <td>205</td>\n      <td>96</td>\n      <td>1</td>\n      <td>2</td>\n      <td>...</td>\n      <td>0</td>\n      <td>1</td>\n      <td>0</td>\n      <td>0</td>\n      <td>0</td>\n      <td>1</td>\n      <td>0</td>\n      <td>1</td>\n      <td>1</td>\n      <td>0</td>\n    </tr>\n  </tbody>\n</table>\n<p>52899 rows × 230 columns</p>\n</div>"
     },
     "execution_count": 23,
     "metadata": {},
     "output_type": "execute_result"
    }
   ],
   "source": [
    "df.loc[df['log_price']>1]"
   ],
   "metadata": {
    "collapsed": false,
    "ExecuteTime": {
     "end_time": "2023-09-22T12:55:30.948986600Z",
     "start_time": "2023-09-22T12:55:30.889395600Z"
    }
   }
  },
  {
   "cell_type": "code",
   "execution_count": 24,
   "outputs": [
    {
     "data": {
      "text/plain": "             id  log_price  accommodates  bathrooms  cleaning_fee  \\\n0       6901257          5             3          1             1   \n1       6304928          5             7          1             1   \n2       7919400          4             5          1             1   \n3       3808709          4             2          1             1   \n4      12422935          4             2          1             1   \n...         ...        ...           ...        ...           ...   \n52895  14549287          4             1          1             0   \n52896  13281809          5             4          2             1   \n52897  18688039          5             5          1             1   \n52898  17045948          5             2          1             1   \n52899   3534845          4             4          1             0   \n\n       host_response_rate  number_of_reviews  review_scores_rating  bedrooms  \\\n0                      94                  2                   100         1   \n1                     100                  6                    93         3   \n2                     100                 10                    92         1   \n3                     100                  4                    40         0   \n4                     100                  3                   100         1   \n...                   ...                ...                   ...       ...   \n52895                  94                  0                    94         1   \n52896                 100                 16                    93         2   \n52897                 100                 43                    94         2   \n52898                 100                  0                    94         0   \n52899                 100                205                    96         1   \n\n       beds  ...  city_DC  city_LA  city_NYC  city_SF  host_has_profile_pic_f  \\\n0         1  ...        0        0         1        0                       0   \n1         3  ...        0        0         1        0                       0   \n2         3  ...        0        0         1        0                       0   \n3         1  ...        1        0         0        0                       0   \n4         1  ...        0        0         0        1                       0   \n...     ...  ...      ...      ...       ...      ...                     ...   \n52895     1  ...        0        0         1        0                       0   \n52896     4  ...        0        1         0        0                       0   \n52897     2  ...        0        0         1        0                       0   \n52898     2  ...        0        0         1        0                       0   \n52899     2  ...        0        1         0        0                       0   \n\n       host_has_profile_pic_t  host_identity_verified_f  \\\n0                           1                         0   \n1                           1                         1   \n2                           1                         0   \n3                           1                         0   \n4                           1                         0   \n...                       ...                       ...   \n52895                       1                         0   \n52896                       1                         1   \n52897                       1                         0   \n52898                       1                         1   \n52899                       1                         0   \n\n       host_identity_verified_t  instant_bookable_f  instant_bookable_t  \n0                             1                   1                   0  \n1                             0                   0                   1  \n2                             1                   0                   1  \n3                             1                   0                   1  \n4                             1                   0                   1  \n...                         ...                 ...                 ...  \n52895                         1                   1                   0  \n52896                         0                   1                   0  \n52897                         1                   0                   1  \n52898                         0                   0                   1  \n52899                         1                   1                   0  \n\n[52900 rows x 230 columns]",
      "text/html": "<div>\n<style scoped>\n    .dataframe tbody tr th:only-of-type {\n        vertical-align: middle;\n    }\n\n    .dataframe tbody tr th {\n        vertical-align: top;\n    }\n\n    .dataframe thead th {\n        text-align: right;\n    }\n</style>\n<table border=\"1\" class=\"dataframe\">\n  <thead>\n    <tr style=\"text-align: right;\">\n      <th></th>\n      <th>id</th>\n      <th>log_price</th>\n      <th>accommodates</th>\n      <th>bathrooms</th>\n      <th>cleaning_fee</th>\n      <th>host_response_rate</th>\n      <th>number_of_reviews</th>\n      <th>review_scores_rating</th>\n      <th>bedrooms</th>\n      <th>beds</th>\n      <th>...</th>\n      <th>city_DC</th>\n      <th>city_LA</th>\n      <th>city_NYC</th>\n      <th>city_SF</th>\n      <th>host_has_profile_pic_f</th>\n      <th>host_has_profile_pic_t</th>\n      <th>host_identity_verified_f</th>\n      <th>host_identity_verified_t</th>\n      <th>instant_bookable_f</th>\n      <th>instant_bookable_t</th>\n    </tr>\n  </thead>\n  <tbody>\n    <tr>\n      <th>0</th>\n      <td>6901257</td>\n      <td>5</td>\n      <td>3</td>\n      <td>1</td>\n      <td>1</td>\n      <td>94</td>\n      <td>2</td>\n      <td>100</td>\n      <td>1</td>\n      <td>1</td>\n      <td>...</td>\n      <td>0</td>\n      <td>0</td>\n      <td>1</td>\n      <td>0</td>\n      <td>0</td>\n      <td>1</td>\n      <td>0</td>\n      <td>1</td>\n      <td>1</td>\n      <td>0</td>\n    </tr>\n    <tr>\n      <th>1</th>\n      <td>6304928</td>\n      <td>5</td>\n      <td>7</td>\n      <td>1</td>\n      <td>1</td>\n      <td>100</td>\n      <td>6</td>\n      <td>93</td>\n      <td>3</td>\n      <td>3</td>\n      <td>...</td>\n      <td>0</td>\n      <td>0</td>\n      <td>1</td>\n      <td>0</td>\n      <td>0</td>\n      <td>1</td>\n      <td>1</td>\n      <td>0</td>\n      <td>0</td>\n      <td>1</td>\n    </tr>\n    <tr>\n      <th>2</th>\n      <td>7919400</td>\n      <td>4</td>\n      <td>5</td>\n      <td>1</td>\n      <td>1</td>\n      <td>100</td>\n      <td>10</td>\n      <td>92</td>\n      <td>1</td>\n      <td>3</td>\n      <td>...</td>\n      <td>0</td>\n      <td>0</td>\n      <td>1</td>\n      <td>0</td>\n      <td>0</td>\n      <td>1</td>\n      <td>0</td>\n      <td>1</td>\n      <td>0</td>\n      <td>1</td>\n    </tr>\n    <tr>\n      <th>3</th>\n      <td>3808709</td>\n      <td>4</td>\n      <td>2</td>\n      <td>1</td>\n      <td>1</td>\n      <td>100</td>\n      <td>4</td>\n      <td>40</td>\n      <td>0</td>\n      <td>1</td>\n      <td>...</td>\n      <td>1</td>\n      <td>0</td>\n      <td>0</td>\n      <td>0</td>\n      <td>0</td>\n      <td>1</td>\n      <td>0</td>\n      <td>1</td>\n      <td>0</td>\n      <td>1</td>\n    </tr>\n    <tr>\n      <th>4</th>\n      <td>12422935</td>\n      <td>4</td>\n      <td>2</td>\n      <td>1</td>\n      <td>1</td>\n      <td>100</td>\n      <td>3</td>\n      <td>100</td>\n      <td>1</td>\n      <td>1</td>\n      <td>...</td>\n      <td>0</td>\n      <td>0</td>\n      <td>0</td>\n      <td>1</td>\n      <td>0</td>\n      <td>1</td>\n      <td>0</td>\n      <td>1</td>\n      <td>0</td>\n      <td>1</td>\n    </tr>\n    <tr>\n      <th>...</th>\n      <td>...</td>\n      <td>...</td>\n      <td>...</td>\n      <td>...</td>\n      <td>...</td>\n      <td>...</td>\n      <td>...</td>\n      <td>...</td>\n      <td>...</td>\n      <td>...</td>\n      <td>...</td>\n      <td>...</td>\n      <td>...</td>\n      <td>...</td>\n      <td>...</td>\n      <td>...</td>\n      <td>...</td>\n      <td>...</td>\n      <td>...</td>\n      <td>...</td>\n      <td>...</td>\n    </tr>\n    <tr>\n      <th>52895</th>\n      <td>14549287</td>\n      <td>4</td>\n      <td>1</td>\n      <td>1</td>\n      <td>0</td>\n      <td>94</td>\n      <td>0</td>\n      <td>94</td>\n      <td>1</td>\n      <td>1</td>\n      <td>...</td>\n      <td>0</td>\n      <td>0</td>\n      <td>1</td>\n      <td>0</td>\n      <td>0</td>\n      <td>1</td>\n      <td>0</td>\n      <td>1</td>\n      <td>1</td>\n      <td>0</td>\n    </tr>\n    <tr>\n      <th>52896</th>\n      <td>13281809</td>\n      <td>5</td>\n      <td>4</td>\n      <td>2</td>\n      <td>1</td>\n      <td>100</td>\n      <td>16</td>\n      <td>93</td>\n      <td>2</td>\n      <td>4</td>\n      <td>...</td>\n      <td>0</td>\n      <td>1</td>\n      <td>0</td>\n      <td>0</td>\n      <td>0</td>\n      <td>1</td>\n      <td>1</td>\n      <td>0</td>\n      <td>1</td>\n      <td>0</td>\n    </tr>\n    <tr>\n      <th>52897</th>\n      <td>18688039</td>\n      <td>5</td>\n      <td>5</td>\n      <td>1</td>\n      <td>1</td>\n      <td>100</td>\n      <td>43</td>\n      <td>94</td>\n      <td>2</td>\n      <td>2</td>\n      <td>...</td>\n      <td>0</td>\n      <td>0</td>\n      <td>1</td>\n      <td>0</td>\n      <td>0</td>\n      <td>1</td>\n      <td>0</td>\n      <td>1</td>\n      <td>0</td>\n      <td>1</td>\n    </tr>\n    <tr>\n      <th>52898</th>\n      <td>17045948</td>\n      <td>5</td>\n      <td>2</td>\n      <td>1</td>\n      <td>1</td>\n      <td>100</td>\n      <td>0</td>\n      <td>94</td>\n      <td>0</td>\n      <td>2</td>\n      <td>...</td>\n      <td>0</td>\n      <td>0</td>\n      <td>1</td>\n      <td>0</td>\n      <td>0</td>\n      <td>1</td>\n      <td>1</td>\n      <td>0</td>\n      <td>0</td>\n      <td>1</td>\n    </tr>\n    <tr>\n      <th>52899</th>\n      <td>3534845</td>\n      <td>4</td>\n      <td>4</td>\n      <td>1</td>\n      <td>0</td>\n      <td>100</td>\n      <td>205</td>\n      <td>96</td>\n      <td>1</td>\n      <td>2</td>\n      <td>...</td>\n      <td>0</td>\n      <td>1</td>\n      <td>0</td>\n      <td>0</td>\n      <td>0</td>\n      <td>1</td>\n      <td>0</td>\n      <td>1</td>\n      <td>1</td>\n      <td>0</td>\n    </tr>\n  </tbody>\n</table>\n<p>52900 rows × 230 columns</p>\n</div>"
     },
     "execution_count": 24,
     "metadata": {},
     "output_type": "execute_result"
    }
   ],
   "source": [
    "df"
   ],
   "metadata": {
    "collapsed": false,
    "ExecuteTime": {
     "end_time": "2023-09-22T12:55:31.515236100Z",
     "start_time": "2023-09-22T12:55:31.490725500Z"
    }
   }
  },
  {
   "cell_type": "code",
   "execution_count": null,
   "outputs": [],
   "source": [],
   "metadata": {
    "collapsed": false
   }
  }
 ],
 "metadata": {
  "kernelspec": {
   "display_name": "Python 3",
   "language": "python",
   "name": "python3"
  },
  "language_info": {
   "codemirror_mode": {
    "name": "ipython",
    "version": 2
   },
   "file_extension": ".py",
   "mimetype": "text/x-python",
   "name": "python",
   "nbconvert_exporter": "python",
   "pygments_lexer": "ipython2",
   "version": "2.7.6"
  }
 },
 "nbformat": 4,
 "nbformat_minor": 0
}
