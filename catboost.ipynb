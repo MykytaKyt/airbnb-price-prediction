{
 "cells": [
  {
   "cell_type": "code",
   "execution_count": 106,
   "metadata": {
    "pycharm": {
     "name": "#%%\n"
    }
   },
   "outputs": [],
   "source": [
    "import pandas as pd\n",
    "import catboost\n",
    "from sklearn.metrics import mean_squared_error\n",
    "from sklearn.metrics import mean_absolute_error\n",
    "from catboost import CatBoostRegressor\n",
    "from catboost import Pool, metrics, cv\n",
    "from sklearn import model_selection\n"
   ]
  },
  {
   "cell_type": "code",
   "execution_count": 107,
   "metadata": {
    "pycharm": {
     "name": "#%%\n"
    }
   },
   "outputs": [],
   "source": [
    "df = pd.read_csv(\"Train.csv\")"
   ]
  },
  {
   "cell_type": "code",
   "execution_count": 108,
   "metadata": {
    "pycharm": {
     "name": "#%%\n"
    }
   },
   "outputs": [],
   "source": [
    "# Convert % to numeric\n",
    "df['host_response_rate'] = df['host_response_rate'].str.rstrip('%').apply(pd.to_numeric, errors='coerce')\n",
    "df['host_acceptance_rate'] = df['host_acceptance_rate'].str.rstrip('%').apply(pd.to_numeric, errors='coerce')"
   ]
  },
  {
   "cell_type": "code",
   "execution_count": 109,
   "metadata": {
    "pycharm": {
     "name": "#%%\n"
    }
   },
   "outputs": [],
   "source": [
    "# Convert $ to numeric\n",
    "df[\"price\"] = df[\"price\"].replace('[\\$,]', '', regex=True).astype(float)\n",
    "df[\"cleaning_fee\"] = df[\"cleaning_fee\"].replace('[\\$,]', '', regex=True).astype(float)"
   ]
  },
  {
   "cell_type": "code",
   "execution_count": 110,
   "metadata": {
    "pycharm": {
     "name": "#%%\n"
    }
   },
   "outputs": [],
   "source": [
    "df = df.dropna()"
   ]
  },
  {
   "cell_type": "code",
   "execution_count": 111,
   "metadata": {
    "pycharm": {
     "name": "#%%\n"
    }
   },
   "outputs": [],
   "source": [
    "df = df.drop('reviews_per_month', axis=1)"
   ]
  },
  {
   "cell_type": "code",
   "execution_count": 112,
   "metadata": {
    "pycharm": {
     "name": "#%%\n"
    }
   },
   "outputs": [],
   "source": [
    "df1 = df.iloc[:300]\n",
    "X_val = df1.drop('price', axis=1)\n",
    "\n",
    "df = df.iloc[300:]"
   ]
  },
  {
   "cell_type": "code",
   "execution_count": 113,
   "metadata": {
    "pycharm": {
     "name": "#%%\n"
    }
   },
   "outputs": [],
   "source": [
    "X, y = df.iloc[:, df.columns != 'price'], \\\n",
    "       df.iloc[:, df.columns == 'price']"
   ]
  },
  {
   "cell_type": "code",
   "execution_count": 114,
   "metadata": {
    "pycharm": {
     "name": "#%%\n"
    }
   },
   "outputs": [],
   "source": [
    "X_train, X_test, y_train, y_test = \\\n",
    "    model_selection.train_test_split(X, y, test_size=0.3, random_state=0)"
   ]
  },
  {
   "cell_type": "code",
   "execution_count": 115,
   "metadata": {
    "pycharm": {
     "name": "#%%\n"
    }
   },
   "outputs": [
    {
     "name": "stderr",
     "output_type": "stream",
     "text": [
      "`np.float` is a deprecated alias for the builtin `float`. To silence this warning, use `float` by itself. Doing this will not modify any behavior and is safe. If you specifically wanted the numpy scalar type, use `np.float64` here.\n",
      "Deprecated in NumPy 1.20; for more details and guidance: https://numpy.org/devdocs/release/1.20.0-notes.html#deprecations\n"
     ]
    }
   ],
   "source": [
    "categorical_features_indices = np.where(X.dtypes != np.float)[0]"
   ]
  },
  {
   "cell_type": "code",
   "execution_count": 116,
   "metadata": {
    "pycharm": {
     "name": "#%%\n"
    }
   },
   "outputs": [
    {
     "name": "stdout",
     "output_type": "stream",
     "text": [
      "0:\tlearn: 82.1948927\ttotal: 2.39ms\tremaining: 237ms\n",
      "1:\tlearn: 82.1840907\ttotal: 5.9ms\tremaining: 289ms\n",
      "2:\tlearn: 82.1695178\ttotal: 6.53ms\tremaining: 211ms\n",
      "3:\tlearn: 82.1595344\ttotal: 7.64ms\tremaining: 183ms\n",
      "4:\tlearn: 82.1468030\ttotal: 8.22ms\tremaining: 156ms\n",
      "5:\tlearn: 82.1412348\ttotal: 12.2ms\tremaining: 191ms\n",
      "6:\tlearn: 82.1251686\ttotal: 13.2ms\tremaining: 175ms\n",
      "7:\tlearn: 82.1091604\ttotal: 13.6ms\tremaining: 157ms\n",
      "8:\tlearn: 82.1012389\ttotal: 19ms\tremaining: 192ms\n",
      "9:\tlearn: 82.0862778\ttotal: 19.6ms\tremaining: 176ms\n",
      "10:\tlearn: 82.0685908\ttotal: 19.9ms\tremaining: 161ms\n",
      "11:\tlearn: 82.0515628\ttotal: 20.3ms\tremaining: 149ms\n",
      "12:\tlearn: 82.0429892\ttotal: 23.5ms\tremaining: 157ms\n",
      "13:\tlearn: 82.0357939\ttotal: 25.1ms\tremaining: 154ms\n",
      "14:\tlearn: 82.0310136\ttotal: 26.6ms\tremaining: 151ms\n",
      "15:\tlearn: 82.0249586\ttotal: 29.9ms\tremaining: 157ms\n",
      "16:\tlearn: 82.0122211\ttotal: 30.5ms\tremaining: 149ms\n",
      "17:\tlearn: 82.0049688\ttotal: 33.9ms\tremaining: 155ms\n",
      "18:\tlearn: 82.0008756\ttotal: 38.9ms\tremaining: 166ms\n",
      "19:\tlearn: 81.9926374\ttotal: 40.7ms\tremaining: 163ms\n",
      "20:\tlearn: 81.9842301\ttotal: 41.8ms\tremaining: 157ms\n",
      "21:\tlearn: 81.9679411\ttotal: 43.1ms\tremaining: 153ms\n",
      "22:\tlearn: 81.9644681\ttotal: 47.6ms\tremaining: 159ms\n",
      "23:\tlearn: 81.9566729\ttotal: 48.6ms\tremaining: 154ms\n",
      "24:\tlearn: 81.9437402\ttotal: 49.2ms\tremaining: 148ms\n",
      "25:\tlearn: 81.9313896\ttotal: 50.1ms\tremaining: 143ms\n",
      "26:\tlearn: 81.9182824\ttotal: 50.6ms\tremaining: 137ms\n",
      "27:\tlearn: 81.9080604\ttotal: 51.4ms\tremaining: 132ms\n",
      "28:\tlearn: 81.8941505\ttotal: 52.1ms\tremaining: 128ms\n",
      "29:\tlearn: 81.8824023\ttotal: 53.7ms\tremaining: 125ms\n",
      "30:\tlearn: 81.8672594\ttotal: 56ms\tremaining: 125ms\n",
      "31:\tlearn: 81.8627416\ttotal: 58.8ms\tremaining: 125ms\n",
      "32:\tlearn: 81.8475202\ttotal: 59.5ms\tremaining: 121ms\n",
      "33:\tlearn: 81.8394028\ttotal: 61.1ms\tremaining: 119ms\n",
      "34:\tlearn: 81.8296540\ttotal: 63.2ms\tremaining: 117ms\n",
      "35:\tlearn: 81.8166522\ttotal: 66.5ms\tremaining: 118ms\n",
      "36:\tlearn: 81.8083816\ttotal: 70ms\tremaining: 119ms\n",
      "37:\tlearn: 81.7995626\ttotal: 71ms\tremaining: 116ms\n",
      "38:\tlearn: 81.7912260\ttotal: 72.1ms\tremaining: 113ms\n",
      "39:\tlearn: 81.7743558\ttotal: 72.4ms\tremaining: 109ms\n",
      "40:\tlearn: 81.7717262\ttotal: 76.2ms\tremaining: 110ms\n",
      "41:\tlearn: 81.7623792\ttotal: 77.1ms\tremaining: 106ms\n",
      "42:\tlearn: 81.7495566\ttotal: 77.4ms\tremaining: 103ms\n",
      "43:\tlearn: 81.7346708\ttotal: 77.9ms\tremaining: 99.1ms\n",
      "44:\tlearn: 81.7235815\ttotal: 78.6ms\tremaining: 96ms\n",
      "45:\tlearn: 81.7116151\ttotal: 79.4ms\tremaining: 93.2ms\n",
      "46:\tlearn: 81.6993092\ttotal: 81.5ms\tremaining: 91.9ms\n",
      "47:\tlearn: 81.6970126\ttotal: 83.7ms\tremaining: 90.6ms\n",
      "48:\tlearn: 81.6821716\ttotal: 84.8ms\tremaining: 88.3ms\n",
      "49:\tlearn: 81.6743027\ttotal: 87.3ms\tremaining: 87.3ms\n",
      "50:\tlearn: 81.6600269\ttotal: 88ms\tremaining: 84.5ms\n",
      "51:\tlearn: 81.6431987\ttotal: 88.7ms\tremaining: 81.9ms\n",
      "52:\tlearn: 81.6272605\ttotal: 89.5ms\tremaining: 79.4ms\n",
      "53:\tlearn: 81.6199550\ttotal: 90.6ms\tremaining: 77.1ms\n",
      "54:\tlearn: 81.6127693\ttotal: 91.5ms\tremaining: 74.9ms\n",
      "55:\tlearn: 81.5983266\ttotal: 92.1ms\tremaining: 72.4ms\n",
      "56:\tlearn: 81.5911997\ttotal: 94.6ms\tremaining: 71.3ms\n",
      "57:\tlearn: 81.5808998\ttotal: 96.6ms\tremaining: 70ms\n",
      "58:\tlearn: 81.5685445\ttotal: 97.2ms\tremaining: 67.5ms\n",
      "59:\tlearn: 81.5545968\ttotal: 97.7ms\tremaining: 65.2ms\n",
      "60:\tlearn: 81.5401455\ttotal: 98.2ms\tremaining: 62.8ms\n",
      "61:\tlearn: 81.5363666\ttotal: 101ms\tremaining: 62.1ms\n",
      "62:\tlearn: 81.5252493\ttotal: 102ms\tremaining: 60ms\n",
      "63:\tlearn: 81.5094599\ttotal: 103ms\tremaining: 58.1ms\n",
      "64:\tlearn: 81.4920286\ttotal: 104ms\tremaining: 55.8ms\n",
      "65:\tlearn: 81.4775368\ttotal: 104ms\tremaining: 53.8ms\n",
      "66:\tlearn: 81.4634256\ttotal: 105ms\tremaining: 51.7ms\n",
      "67:\tlearn: 81.4498506\ttotal: 107ms\tremaining: 50.5ms\n",
      "68:\tlearn: 81.4331795\ttotal: 108ms\tremaining: 48.4ms\n",
      "69:\tlearn: 81.4201548\ttotal: 108ms\tremaining: 46.4ms\n",
      "70:\tlearn: 81.4114106\ttotal: 110ms\tremaining: 44.8ms\n",
      "71:\tlearn: 81.3947646\ttotal: 110ms\tremaining: 42.7ms\n",
      "72:\tlearn: 81.3790302\ttotal: 110ms\tremaining: 40.8ms\n",
      "73:\tlearn: 81.3677559\ttotal: 111ms\tremaining: 39ms\n",
      "74:\tlearn: 81.3630114\ttotal: 114ms\tremaining: 38.1ms\n",
      "75:\tlearn: 81.3550843\ttotal: 115ms\tremaining: 36.3ms\n",
      "76:\tlearn: 81.3422723\ttotal: 115ms\tremaining: 34.5ms\n",
      "77:\tlearn: 81.3283202\ttotal: 116ms\tremaining: 32.7ms\n",
      "78:\tlearn: 81.3108723\ttotal: 116ms\tremaining: 30.9ms\n",
      "79:\tlearn: 81.3015300\ttotal: 117ms\tremaining: 29.3ms\n",
      "80:\tlearn: 81.2862504\ttotal: 118ms\tremaining: 27.6ms\n",
      "81:\tlearn: 81.2770750\ttotal: 120ms\tremaining: 26.3ms\n",
      "82:\tlearn: 81.2633380\ttotal: 121ms\tremaining: 24.7ms\n",
      "83:\tlearn: 81.2463293\ttotal: 121ms\tremaining: 23.1ms\n",
      "84:\tlearn: 81.2361650\ttotal: 123ms\tremaining: 21.6ms\n",
      "85:\tlearn: 81.2283082\ttotal: 124ms\tremaining: 20.2ms\n",
      "86:\tlearn: 81.2140033\ttotal: 125ms\tremaining: 18.6ms\n",
      "87:\tlearn: 81.1989132\ttotal: 125ms\tremaining: 17.1ms\n",
      "88:\tlearn: 81.1831732\ttotal: 126ms\tremaining: 15.5ms\n",
      "89:\tlearn: 81.1752527\ttotal: 127ms\tremaining: 14.1ms\n",
      "90:\tlearn: 81.1612991\ttotal: 127ms\tremaining: 12.6ms\n",
      "91:\tlearn: 81.1506817\ttotal: 129ms\tremaining: 11.2ms\n",
      "92:\tlearn: 81.1442288\ttotal: 131ms\tremaining: 9.83ms\n",
      "93:\tlearn: 81.1286444\ttotal: 131ms\tremaining: 8.37ms\n",
      "94:\tlearn: 81.1214822\ttotal: 132ms\tremaining: 6.93ms\n",
      "95:\tlearn: 81.1111512\ttotal: 132ms\tremaining: 5.5ms\n",
      "96:\tlearn: 81.0961569\ttotal: 133ms\tremaining: 4.1ms\n",
      "97:\tlearn: 81.0796854\ttotal: 133ms\tremaining: 2.71ms\n",
      "98:\tlearn: 81.0677404\ttotal: 134ms\tremaining: 1.35ms\n",
      "99:\tlearn: 81.0584848\ttotal: 135ms\tremaining: 0us\n"
     ]
    },
    {
     "data": {
      "text/plain": [
       "<catboost.core.CatBoostRegressor at 0x7f8064f492e0>"
      ]
     },
     "execution_count": 116,
     "metadata": {},
     "output_type": "execute_result"
    }
   ],
   "source": [
    "model = CatBoostRegressor(iterations=100,\n",
    "                          learning_rate=0.001,\n",
    "                          depth=10,\n",
    "                          l2_leaf_reg=100, cat_features = categorical_features_indices)\n",
    "model.fit(X_train, y_train)"
   ]
  },
  {
   "cell_type": "code",
   "execution_count": 117,
   "metadata": {
    "pycharm": {
     "name": "#%%\n"
    }
   },
   "outputs": [],
   "source": [
    "preds = model.predict(X_test)"
   ]
  },
  {
   "cell_type": "code",
   "execution_count": 118,
   "metadata": {
    "pycharm": {
     "name": "#%%\n"
    }
   },
   "outputs": [
    {
     "name": "stdout",
     "output_type": "stream",
     "text": [
      "RMSE:  101.49724603633601\n",
      "MAE:  66.33978092021303\n"
     ]
    }
   ],
   "source": [
    "print('RMSE: ', np.sqrt(mean_squared_error(preds, y_test)))\n",
    "\n",
    "print('MAE: ', mean_absolute_error(preds, y_test))"
   ]
  },
  {
   "cell_type": "code",
   "execution_count": 119,
   "metadata": {
    "pycharm": {
     "name": "#%%\n"
    }
   },
   "outputs": [
    {
     "name": "stdout",
     "output_type": "stream",
     "text": [
      "bedrooms: 51.29670327755933\n",
      "cleaning_fee: 16.89388206794876\n",
      "room_type: 12.338696309183106\n",
      "beds: 5.651235267880997\n",
      "bathrooms: 3.4640506863044256\n",
      "accommodates: 3.358873695407506\n",
      "property_type: 1.2426429357174902\n",
      "host_response_rate: 0.7524340383334068\n",
      "neighbourhood_cleansed: 0.5576141588449436\n",
      "review_scores_location: 0.47427830174421\n",
      "host_neighbourhood: 0.37409840780775816\n",
      "host_location: 0.37369779354763083\n",
      "review_scores_cleanliness: 0.35542464300448556\n",
      "zipcode: 0.30997208993784736\n",
      "maximum_nights: 0.30361372792125463\n",
      "minimum_nights: 0.27405909108454723\n",
      "host_acceptance_rate: 0.2717243141798005\n",
      "instant_bookable: 0.21585882934191866\n",
      "guests_included: 0.21048947531382833\n",
      "review_scores_accuracy: 0.20549295334095025\n",
      "calculated_host_listings_count: 0.1984150316553039\n",
      "review_scores_communication: 0.1907545611275521\n",
      "review_scores_value: 0.158777020246356\n",
      "smart_location: 0.1416903860454448\n",
      "review_scores_checkin: 0.12778402599187227\n",
      "bed_type: 0.11325062679241138\n",
      "city: 0.05889416960672668\n",
      "review_scores_rating: 0.04792225943624862\n",
      "state: 0.025627342399034397\n",
      "cancellation_policy: 0.012042512294792786\n",
      "transit: 0.0\n",
      "summary: 0.0\n",
      "number_of_reviews: 0.0\n",
      "neighborhood_overview: 0.0\n",
      "name: 0.0\n",
      "market: 0.0\n",
      "host_verifications: 0.0\n",
      "host_since: 0.0\n",
      "host_about: 0.0\n",
      "description: 0.0\n",
      "country_code: 0.0\n",
      "country: 0.0\n",
      "amenities: 0.0\n"
     ]
    }
   ],
   "source": [
    "train_pool = Pool(X_train, y_train, cat_features = categorical_features_indices)\n",
    "validate_pool = Pool(X_test, y_test, cat_features = categorical_features_indices)\n",
    "feature_importances = model.get_feature_importance(train_pool)\n",
    "feature_names = X_val.columns\n",
    "for score, name in sorted(zip(feature_importances, feature_names), reverse=True):\n",
    "    print('{}: {}'.format(name, score))"
   ]
  },
  {
   "cell_type": "code",
   "execution_count": 120,
   "metadata": {
    "pycharm": {
     "name": "#%%\n"
    }
   },
   "outputs": [
    {
     "ename": "CatBoostError",
     "evalue": "Invalid feature_names type=<class 'numpy.ndarray'> : must be list",
     "output_type": "error",
     "traceback": [
      "\u001B[0;31m---------------------------------------------------------------------------\u001B[0m",
      "\u001B[0;31mCatBoostError\u001B[0m                             Traceback (most recent call last)",
      "\u001B[0;32m/tmp/ipykernel_18934/826940026.py\u001B[0m in \u001B[0;36m<module>\u001B[0;34m\u001B[0m\n\u001B[0;32m----> 1\u001B[0;31m \u001B[0mval\u001B[0m \u001B[0;34m=\u001B[0m \u001B[0mPool\u001B[0m\u001B[0;34m(\u001B[0m\u001B[0mX_val\u001B[0m\u001B[0;34m,\u001B[0m \u001B[0mfeature_names\u001B[0m\u001B[0;34m=\u001B[0m\u001B[0mcategorical_features_indices\u001B[0m\u001B[0;34m)\u001B[0m\u001B[0;34m\u001B[0m\u001B[0;34m\u001B[0m\u001B[0m\n\u001B[0m",
      "\u001B[0;32m~/.local/lib/python3.8/site-packages/catboost/core.py\u001B[0m in \u001B[0;36m__init__\u001B[0;34m(self, data, label, cat_features, text_features, embedding_features, column_description, pairs, delimiter, has_header, ignore_csv_quoting, weight, group_id, group_weight, subgroup_id, pairs_weight, baseline, timestamp, feature_names, thread_count, log_cout, log_cerr)\u001B[0m\n\u001B[1;32m    626\u001B[0m                     )\n\u001B[1;32m    627\u001B[0m \u001B[0;34m\u001B[0m\u001B[0m\n\u001B[0;32m--> 628\u001B[0;31m                 \u001B[0mself\u001B[0m\u001B[0;34m.\u001B[0m\u001B[0m_init\u001B[0m\u001B[0;34m(\u001B[0m\u001B[0mdata\u001B[0m\u001B[0;34m,\u001B[0m \u001B[0mlabel\u001B[0m\u001B[0;34m,\u001B[0m \u001B[0mcat_features\u001B[0m\u001B[0;34m,\u001B[0m \u001B[0mtext_features\u001B[0m\u001B[0;34m,\u001B[0m \u001B[0membedding_features\u001B[0m\u001B[0;34m,\u001B[0m \u001B[0mpairs\u001B[0m\u001B[0;34m,\u001B[0m \u001B[0mweight\u001B[0m\u001B[0;34m,\u001B[0m \u001B[0mgroup_id\u001B[0m\u001B[0;34m,\u001B[0m \u001B[0mgroup_weight\u001B[0m\u001B[0;34m,\u001B[0m \u001B[0msubgroup_id\u001B[0m\u001B[0;34m,\u001B[0m \u001B[0mpairs_weight\u001B[0m\u001B[0;34m,\u001B[0m \u001B[0mbaseline\u001B[0m\u001B[0;34m,\u001B[0m \u001B[0mtimestamp\u001B[0m\u001B[0;34m,\u001B[0m \u001B[0mfeature_names\u001B[0m\u001B[0;34m,\u001B[0m \u001B[0mthread_count\u001B[0m\u001B[0;34m)\u001B[0m\u001B[0;34m\u001B[0m\u001B[0;34m\u001B[0m\u001B[0m\n\u001B[0m\u001B[1;32m    629\u001B[0m         \u001B[0msuper\u001B[0m\u001B[0;34m(\u001B[0m\u001B[0mPool\u001B[0m\u001B[0;34m,\u001B[0m \u001B[0mself\u001B[0m\u001B[0;34m)\u001B[0m\u001B[0;34m.\u001B[0m\u001B[0m__init__\u001B[0m\u001B[0;34m(\u001B[0m\u001B[0;34m)\u001B[0m\u001B[0;34m\u001B[0m\u001B[0;34m\u001B[0m\u001B[0m\n\u001B[1;32m    630\u001B[0m \u001B[0;34m\u001B[0m\u001B[0m\n",
      "\u001B[0;32m~/.local/lib/python3.8/site-packages/catboost/core.py\u001B[0m in \u001B[0;36m_init\u001B[0;34m(self, data, label, cat_features, text_features, embedding_features, pairs, weight, group_id, group_weight, subgroup_id, pairs_weight, baseline, timestamp, feature_names, thread_count)\u001B[0m\n\u001B[1;32m   1121\u001B[0m             \u001B[0mself\u001B[0m\u001B[0;34m.\u001B[0m\u001B[0m_check_label_shape\u001B[0m\u001B[0;34m(\u001B[0m\u001B[0mlabel\u001B[0m\u001B[0;34m,\u001B[0m \u001B[0msamples_count\u001B[0m\u001B[0;34m)\u001B[0m\u001B[0;34m\u001B[0m\u001B[0;34m\u001B[0m\u001B[0m\n\u001B[1;32m   1122\u001B[0m         \u001B[0;32mif\u001B[0m \u001B[0mfeature_names\u001B[0m \u001B[0;32mis\u001B[0m \u001B[0;32mnot\u001B[0m \u001B[0;32mNone\u001B[0m\u001B[0;34m:\u001B[0m\u001B[0;34m\u001B[0m\u001B[0;34m\u001B[0m\u001B[0m\n\u001B[0;32m-> 1123\u001B[0;31m             \u001B[0mself\u001B[0m\u001B[0;34m.\u001B[0m\u001B[0m_check_feature_names\u001B[0m\u001B[0;34m(\u001B[0m\u001B[0mfeature_names\u001B[0m\u001B[0;34m,\u001B[0m \u001B[0mfeatures_count\u001B[0m\u001B[0;34m)\u001B[0m\u001B[0;34m\u001B[0m\u001B[0;34m\u001B[0m\u001B[0m\n\u001B[0m\u001B[1;32m   1124\u001B[0m         \u001B[0;32mif\u001B[0m \u001B[0mcat_features\u001B[0m \u001B[0;32mis\u001B[0m \u001B[0;32mnot\u001B[0m \u001B[0;32mNone\u001B[0m\u001B[0;34m:\u001B[0m\u001B[0;34m\u001B[0m\u001B[0;34m\u001B[0m\u001B[0m\n\u001B[1;32m   1125\u001B[0m             \u001B[0mcat_features\u001B[0m \u001B[0;34m=\u001B[0m \u001B[0m_get_features_indices\u001B[0m\u001B[0;34m(\u001B[0m\u001B[0mcat_features\u001B[0m\u001B[0;34m,\u001B[0m \u001B[0mfeature_names\u001B[0m\u001B[0;34m)\u001B[0m\u001B[0;34m\u001B[0m\u001B[0;34m\u001B[0m\u001B[0m\n",
      "\u001B[0;32m~/.local/lib/python3.8/site-packages/catboost/core.py\u001B[0m in \u001B[0;36m_check_feature_names\u001B[0;34m(self, feature_names, num_col)\u001B[0m\n\u001B[1;32m    843\u001B[0m             \u001B[0mnum_col\u001B[0m \u001B[0;34m=\u001B[0m \u001B[0mself\u001B[0m\u001B[0;34m.\u001B[0m\u001B[0mnum_col\u001B[0m\u001B[0;34m(\u001B[0m\u001B[0;34m)\u001B[0m\u001B[0;34m\u001B[0m\u001B[0;34m\u001B[0m\u001B[0m\n\u001B[1;32m    844\u001B[0m         \u001B[0;32mif\u001B[0m \u001B[0;32mnot\u001B[0m \u001B[0misinstance\u001B[0m\u001B[0;34m(\u001B[0m\u001B[0mfeature_names\u001B[0m\u001B[0;34m,\u001B[0m \u001B[0mSequence\u001B[0m\u001B[0;34m)\u001B[0m\u001B[0;34m:\u001B[0m\u001B[0;34m\u001B[0m\u001B[0;34m\u001B[0m\u001B[0m\n\u001B[0;32m--> 845\u001B[0;31m             \u001B[0;32mraise\u001B[0m \u001B[0mCatBoostError\u001B[0m\u001B[0;34m(\u001B[0m\u001B[0;34m\"Invalid feature_names type={} : must be list\"\u001B[0m\u001B[0;34m.\u001B[0m\u001B[0mformat\u001B[0m\u001B[0;34m(\u001B[0m\u001B[0mtype\u001B[0m\u001B[0;34m(\u001B[0m\u001B[0mfeature_names\u001B[0m\u001B[0;34m)\u001B[0m\u001B[0;34m)\u001B[0m\u001B[0;34m)\u001B[0m\u001B[0;34m\u001B[0m\u001B[0;34m\u001B[0m\u001B[0m\n\u001B[0m\u001B[1;32m    846\u001B[0m         \u001B[0;32mif\u001B[0m \u001B[0mlen\u001B[0m\u001B[0;34m(\u001B[0m\u001B[0mfeature_names\u001B[0m\u001B[0;34m)\u001B[0m \u001B[0;34m!=\u001B[0m \u001B[0mnum_col\u001B[0m\u001B[0;34m:\u001B[0m\u001B[0;34m\u001B[0m\u001B[0;34m\u001B[0m\u001B[0m\n\u001B[1;32m    847\u001B[0m             \u001B[0;32mraise\u001B[0m \u001B[0mCatBoostError\u001B[0m\u001B[0;34m(\u001B[0m\u001B[0;34m\"Invalid length of feature_names={} : must be equal to the number of columns in data={}\"\u001B[0m\u001B[0;34m.\u001B[0m\u001B[0mformat\u001B[0m\u001B[0;34m(\u001B[0m\u001B[0mlen\u001B[0m\u001B[0;34m(\u001B[0m\u001B[0mfeature_names\u001B[0m\u001B[0;34m)\u001B[0m\u001B[0;34m,\u001B[0m \u001B[0mnum_col\u001B[0m\u001B[0;34m)\u001B[0m\u001B[0;34m)\u001B[0m\u001B[0;34m\u001B[0m\u001B[0;34m\u001B[0m\u001B[0m\n",
      "\u001B[0;31mCatBoostError\u001B[0m: Invalid feature_names type=<class 'numpy.ndarray'> : must be list"
     ]
    }
   ],
   "source": [
    "val = Pool(X_val, feature_names=categorical_features_indices)"
   ]
  },
  {
   "cell_type": "code",
   "execution_count": null,
   "metadata": {
    "pycharm": {
     "name": "#%%\n"
    }
   },
   "outputs": [],
   "source": []
  }
 ],
 "metadata": {
  "interpreter": {
   "hash": "916dbcbb3f70747c44a77c7bcd40155683ae19c65e1c03b4aa3499c5328201f1"
  },
  "kernelspec": {
   "display_name": "Python 3.8.10 64-bit",
   "language": "python",
   "name": "python3"
  },
  "language_info": {
   "codemirror_mode": {
    "name": "ipython",
    "version": 3
   },
   "file_extension": ".py",
   "mimetype": "text/x-python",
   "name": "python",
   "nbconvert_exporter": "python",
   "pygments_lexer": "ipython3",
   "version": "3.8.10"
  },
  "orig_nbformat": 4
 },
 "nbformat": 4,
 "nbformat_minor": 2
}